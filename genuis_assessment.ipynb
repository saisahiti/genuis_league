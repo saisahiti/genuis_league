{
 "cells": [
  {
   "cell_type": "code",
   "execution_count": 1,
   "id": "adf12cfe",
   "metadata": {},
   "outputs": [],
   "source": [
    "# Importing necessary libraries\n",
    "\n",
    "import pandas as pd\n",
    "import numpy as np"
   ]
  },
  {
   "cell_type": "code",
   "execution_count": 2,
   "id": "4369919f",
   "metadata": {},
   "outputs": [],
   "source": [
    "# Reading the given 'star_craft_player' dataset\n",
    "\n",
    "player_df = pd.read_csv(\"dataset/data/starcraft_player_data.csv\")"
   ]
  },
  {
   "cell_type": "code",
   "execution_count": 3,
   "id": "6ec5ed9e",
   "metadata": {},
   "outputs": [
    {
     "data": {
      "text/plain": [
       "(3395, 20)"
      ]
     },
     "execution_count": 3,
     "metadata": {},
     "output_type": "execute_result"
    }
   ],
   "source": [
    "# Looking deeply into the dataset\n",
    "\n",
    "player_df.shape"
   ]
  },
  {
   "cell_type": "markdown",
   "id": "3a8f16f1",
   "metadata": {},
   "source": [
    "After looking at the shape attribute of the dataset, we understood that there are over 3395 rows and 20 columns in the dataset."
   ]
  },
  {
   "cell_type": "code",
   "execution_count": 4,
   "id": "1ee35d26",
   "metadata": {},
   "outputs": [
    {
     "data": {
      "text/html": [
       "<div>\n",
       "<style scoped>\n",
       "    .dataframe tbody tr th:only-of-type {\n",
       "        vertical-align: middle;\n",
       "    }\n",
       "\n",
       "    .dataframe tbody tr th {\n",
       "        vertical-align: top;\n",
       "    }\n",
       "\n",
       "    .dataframe thead th {\n",
       "        text-align: right;\n",
       "    }\n",
       "</style>\n",
       "<table border=\"1\" class=\"dataframe\">\n",
       "  <thead>\n",
       "    <tr style=\"text-align: right;\">\n",
       "      <th></th>\n",
       "      <th>GameID</th>\n",
       "      <th>LeagueIndex</th>\n",
       "      <th>Age</th>\n",
       "      <th>HoursPerWeek</th>\n",
       "      <th>TotalHours</th>\n",
       "      <th>APM</th>\n",
       "      <th>SelectByHotkeys</th>\n",
       "      <th>AssignToHotkeys</th>\n",
       "      <th>UniqueHotkeys</th>\n",
       "      <th>MinimapAttacks</th>\n",
       "      <th>MinimapRightClicks</th>\n",
       "      <th>NumberOfPACs</th>\n",
       "      <th>GapBetweenPACs</th>\n",
       "      <th>ActionLatency</th>\n",
       "      <th>ActionsInPAC</th>\n",
       "      <th>TotalMapExplored</th>\n",
       "      <th>WorkersMade</th>\n",
       "      <th>UniqueUnitsMade</th>\n",
       "      <th>ComplexUnitsMade</th>\n",
       "      <th>ComplexAbilitiesUsed</th>\n",
       "    </tr>\n",
       "  </thead>\n",
       "  <tbody>\n",
       "    <tr>\n",
       "      <th>0</th>\n",
       "      <td>52</td>\n",
       "      <td>5</td>\n",
       "      <td>27</td>\n",
       "      <td>10</td>\n",
       "      <td>3000</td>\n",
       "      <td>143.7180</td>\n",
       "      <td>0.003515</td>\n",
       "      <td>0.000220</td>\n",
       "      <td>7</td>\n",
       "      <td>0.000110</td>\n",
       "      <td>0.000392</td>\n",
       "      <td>0.004849</td>\n",
       "      <td>32.6677</td>\n",
       "      <td>40.8673</td>\n",
       "      <td>4.7508</td>\n",
       "      <td>28</td>\n",
       "      <td>0.001397</td>\n",
       "      <td>6</td>\n",
       "      <td>0.000000</td>\n",
       "      <td>0.000000</td>\n",
       "    </tr>\n",
       "    <tr>\n",
       "      <th>1</th>\n",
       "      <td>55</td>\n",
       "      <td>5</td>\n",
       "      <td>23</td>\n",
       "      <td>10</td>\n",
       "      <td>5000</td>\n",
       "      <td>129.2322</td>\n",
       "      <td>0.003304</td>\n",
       "      <td>0.000259</td>\n",
       "      <td>4</td>\n",
       "      <td>0.000294</td>\n",
       "      <td>0.000432</td>\n",
       "      <td>0.004307</td>\n",
       "      <td>32.9194</td>\n",
       "      <td>42.3454</td>\n",
       "      <td>4.8434</td>\n",
       "      <td>22</td>\n",
       "      <td>0.001193</td>\n",
       "      <td>5</td>\n",
       "      <td>0.000000</td>\n",
       "      <td>0.000208</td>\n",
       "    </tr>\n",
       "    <tr>\n",
       "      <th>2</th>\n",
       "      <td>56</td>\n",
       "      <td>4</td>\n",
       "      <td>30</td>\n",
       "      <td>10</td>\n",
       "      <td>200</td>\n",
       "      <td>69.9612</td>\n",
       "      <td>0.001101</td>\n",
       "      <td>0.000336</td>\n",
       "      <td>4</td>\n",
       "      <td>0.000294</td>\n",
       "      <td>0.000461</td>\n",
       "      <td>0.002926</td>\n",
       "      <td>44.6475</td>\n",
       "      <td>75.3548</td>\n",
       "      <td>4.0430</td>\n",
       "      <td>22</td>\n",
       "      <td>0.000745</td>\n",
       "      <td>6</td>\n",
       "      <td>0.000000</td>\n",
       "      <td>0.000189</td>\n",
       "    </tr>\n",
       "    <tr>\n",
       "      <th>3</th>\n",
       "      <td>57</td>\n",
       "      <td>3</td>\n",
       "      <td>19</td>\n",
       "      <td>20</td>\n",
       "      <td>400</td>\n",
       "      <td>107.6016</td>\n",
       "      <td>0.001034</td>\n",
       "      <td>0.000213</td>\n",
       "      <td>1</td>\n",
       "      <td>0.000053</td>\n",
       "      <td>0.000543</td>\n",
       "      <td>0.003783</td>\n",
       "      <td>29.2203</td>\n",
       "      <td>53.7352</td>\n",
       "      <td>4.9155</td>\n",
       "      <td>19</td>\n",
       "      <td>0.000426</td>\n",
       "      <td>7</td>\n",
       "      <td>0.000000</td>\n",
       "      <td>0.000384</td>\n",
       "    </tr>\n",
       "    <tr>\n",
       "      <th>4</th>\n",
       "      <td>58</td>\n",
       "      <td>3</td>\n",
       "      <td>32</td>\n",
       "      <td>10</td>\n",
       "      <td>500</td>\n",
       "      <td>122.8908</td>\n",
       "      <td>0.001136</td>\n",
       "      <td>0.000327</td>\n",
       "      <td>2</td>\n",
       "      <td>0.000000</td>\n",
       "      <td>0.001329</td>\n",
       "      <td>0.002368</td>\n",
       "      <td>22.6885</td>\n",
       "      <td>62.0813</td>\n",
       "      <td>9.3740</td>\n",
       "      <td>15</td>\n",
       "      <td>0.001174</td>\n",
       "      <td>4</td>\n",
       "      <td>0.000000</td>\n",
       "      <td>0.000019</td>\n",
       "    </tr>\n",
       "    <tr>\n",
       "      <th>5</th>\n",
       "      <td>60</td>\n",
       "      <td>2</td>\n",
       "      <td>27</td>\n",
       "      <td>6</td>\n",
       "      <td>70</td>\n",
       "      <td>44.4570</td>\n",
       "      <td>0.000978</td>\n",
       "      <td>0.000255</td>\n",
       "      <td>2</td>\n",
       "      <td>0.000000</td>\n",
       "      <td>0.000000</td>\n",
       "      <td>0.002425</td>\n",
       "      <td>76.4405</td>\n",
       "      <td>98.7719</td>\n",
       "      <td>3.0965</td>\n",
       "      <td>16</td>\n",
       "      <td>0.000372</td>\n",
       "      <td>6</td>\n",
       "      <td>0.000000</td>\n",
       "      <td>0.000000</td>\n",
       "    </tr>\n",
       "    <tr>\n",
       "      <th>6</th>\n",
       "      <td>61</td>\n",
       "      <td>1</td>\n",
       "      <td>21</td>\n",
       "      <td>8</td>\n",
       "      <td>240</td>\n",
       "      <td>46.9962</td>\n",
       "      <td>0.000820</td>\n",
       "      <td>0.000169</td>\n",
       "      <td>6</td>\n",
       "      <td>0.000000</td>\n",
       "      <td>0.000045</td>\n",
       "      <td>0.001988</td>\n",
       "      <td>94.0227</td>\n",
       "      <td>90.5311</td>\n",
       "      <td>4.1017</td>\n",
       "      <td>15</td>\n",
       "      <td>0.000573</td>\n",
       "      <td>5</td>\n",
       "      <td>0.000000</td>\n",
       "      <td>0.000000</td>\n",
       "    </tr>\n",
       "    <tr>\n",
       "      <th>7</th>\n",
       "      <td>72</td>\n",
       "      <td>7</td>\n",
       "      <td>17</td>\n",
       "      <td>42</td>\n",
       "      <td>10000</td>\n",
       "      <td>212.6022</td>\n",
       "      <td>0.009040</td>\n",
       "      <td>0.000676</td>\n",
       "      <td>6</td>\n",
       "      <td>0.001164</td>\n",
       "      <td>0.001253</td>\n",
       "      <td>0.004952</td>\n",
       "      <td>24.6117</td>\n",
       "      <td>41.7671</td>\n",
       "      <td>6.6104</td>\n",
       "      <td>45</td>\n",
       "      <td>0.002277</td>\n",
       "      <td>9</td>\n",
       "      <td>0.000129</td>\n",
       "      <td>0.000249</td>\n",
       "    </tr>\n",
       "    <tr>\n",
       "      <th>8</th>\n",
       "      <td>77</td>\n",
       "      <td>4</td>\n",
       "      <td>20</td>\n",
       "      <td>14</td>\n",
       "      <td>2708</td>\n",
       "      <td>117.4884</td>\n",
       "      <td>0.002944</td>\n",
       "      <td>0.000527</td>\n",
       "      <td>2</td>\n",
       "      <td>0.000019</td>\n",
       "      <td>0.000414</td>\n",
       "      <td>0.005399</td>\n",
       "      <td>52.0140</td>\n",
       "      <td>46.4321</td>\n",
       "      <td>3.3746</td>\n",
       "      <td>29</td>\n",
       "      <td>0.001035</td>\n",
       "      <td>7</td>\n",
       "      <td>0.000273</td>\n",
       "      <td>0.000470</td>\n",
       "    </tr>\n",
       "    <tr>\n",
       "      <th>9</th>\n",
       "      <td>81</td>\n",
       "      <td>4</td>\n",
       "      <td>18</td>\n",
       "      <td>24</td>\n",
       "      <td>800</td>\n",
       "      <td>155.9856</td>\n",
       "      <td>0.005054</td>\n",
       "      <td>0.000524</td>\n",
       "      <td>8</td>\n",
       "      <td>0.000025</td>\n",
       "      <td>0.000399</td>\n",
       "      <td>0.003569</td>\n",
       "      <td>24.4632</td>\n",
       "      <td>52.1538</td>\n",
       "      <td>6.5664</td>\n",
       "      <td>27</td>\n",
       "      <td>0.001310</td>\n",
       "      <td>6</td>\n",
       "      <td>0.000000</td>\n",
       "      <td>0.000000</td>\n",
       "    </tr>\n",
       "  </tbody>\n",
       "</table>\n",
       "</div>"
      ],
      "text/plain": [
       "   GameID  LeagueIndex Age HoursPerWeek TotalHours       APM  SelectByHotkeys  \\\n",
       "0      52            5  27           10       3000  143.7180         0.003515   \n",
       "1      55            5  23           10       5000  129.2322         0.003304   \n",
       "2      56            4  30           10        200   69.9612         0.001101   \n",
       "3      57            3  19           20        400  107.6016         0.001034   \n",
       "4      58            3  32           10        500  122.8908         0.001136   \n",
       "5      60            2  27            6         70   44.4570         0.000978   \n",
       "6      61            1  21            8        240   46.9962         0.000820   \n",
       "7      72            7  17           42      10000  212.6022         0.009040   \n",
       "8      77            4  20           14       2708  117.4884         0.002944   \n",
       "9      81            4  18           24        800  155.9856         0.005054   \n",
       "\n",
       "   AssignToHotkeys  UniqueHotkeys  MinimapAttacks  MinimapRightClicks  \\\n",
       "0         0.000220              7        0.000110            0.000392   \n",
       "1         0.000259              4        0.000294            0.000432   \n",
       "2         0.000336              4        0.000294            0.000461   \n",
       "3         0.000213              1        0.000053            0.000543   \n",
       "4         0.000327              2        0.000000            0.001329   \n",
       "5         0.000255              2        0.000000            0.000000   \n",
       "6         0.000169              6        0.000000            0.000045   \n",
       "7         0.000676              6        0.001164            0.001253   \n",
       "8         0.000527              2        0.000019            0.000414   \n",
       "9         0.000524              8        0.000025            0.000399   \n",
       "\n",
       "   NumberOfPACs  GapBetweenPACs  ActionLatency  ActionsInPAC  \\\n",
       "0      0.004849         32.6677        40.8673        4.7508   \n",
       "1      0.004307         32.9194        42.3454        4.8434   \n",
       "2      0.002926         44.6475        75.3548        4.0430   \n",
       "3      0.003783         29.2203        53.7352        4.9155   \n",
       "4      0.002368         22.6885        62.0813        9.3740   \n",
       "5      0.002425         76.4405        98.7719        3.0965   \n",
       "6      0.001988         94.0227        90.5311        4.1017   \n",
       "7      0.004952         24.6117        41.7671        6.6104   \n",
       "8      0.005399         52.0140        46.4321        3.3746   \n",
       "9      0.003569         24.4632        52.1538        6.5664   \n",
       "\n",
       "   TotalMapExplored  WorkersMade  UniqueUnitsMade  ComplexUnitsMade  \\\n",
       "0                28     0.001397                6          0.000000   \n",
       "1                22     0.001193                5          0.000000   \n",
       "2                22     0.000745                6          0.000000   \n",
       "3                19     0.000426                7          0.000000   \n",
       "4                15     0.001174                4          0.000000   \n",
       "5                16     0.000372                6          0.000000   \n",
       "6                15     0.000573                5          0.000000   \n",
       "7                45     0.002277                9          0.000129   \n",
       "8                29     0.001035                7          0.000273   \n",
       "9                27     0.001310                6          0.000000   \n",
       "\n",
       "   ComplexAbilitiesUsed  \n",
       "0              0.000000  \n",
       "1              0.000208  \n",
       "2              0.000189  \n",
       "3              0.000384  \n",
       "4              0.000019  \n",
       "5              0.000000  \n",
       "6              0.000000  \n",
       "7              0.000249  \n",
       "8              0.000470  \n",
       "9              0.000000  "
      ]
     },
     "execution_count": 4,
     "metadata": {},
     "output_type": "execute_result"
    }
   ],
   "source": [
    "# Finding the first 10 rows of the dataset\n",
    "\n",
    "player_df.head(10)"
   ]
  },
  {
   "cell_type": "markdown",
   "id": "42c98032",
   "metadata": {},
   "source": [
    "GameID represents the id of the particular game which means it is the unique identifier, LeagueIndex is the id of the unique league this is the target variable as it can be used to predict player's rank. Going forward, we can try to eliminate any features based on the correlation with target variable, or check for the importance by analyzing the features description."
   ]
  },
  {
   "cell_type": "code",
   "execution_count": 5,
   "id": "80cfc99c",
   "metadata": {},
   "outputs": [
    {
     "data": {
      "text/plain": [
       "'      GameID  LeagueIndex Age HoursPerWeek TotalHours       APM  \\\\\\n0         52            5  27           10       3000  143.7180   \\n1         55            5  23           10       5000  129.2322   \\n2         56            4  30           10        200   69.9612   \\n3         57            3  19           20        400  107.6016   \\n4         58            3  32           10        500  122.8908   \\n...      ...          ...  ..          ...        ...       ...   \\n3390   10089            8   ?            ?          ?  259.6296   \\n3391   10090            8   ?            ?          ?  314.6700   \\n3392   10092            8   ?            ?          ?  299.4282   \\n3393   10094            8   ?            ?          ?  375.8664   \\n3394   10095            8   ?            ?          ?  348.3576   \\n\\n      SelectByHotkeys  AssignToHotkeys  UniqueHotkeys  MinimapAttacks  \\\\\\n0            0.003515         0.000220              7        0.000110   \\n1            0.003304         0.000259              4        0.000294   \\n2            0.001101         0.000336              4        0.000294   \\n3            0.001034         0.000213              1        0.000053   \\n4            0.001136         0.000327              2        0.000000   \\n...               ...              ...            ...             ...   \\n3390         0.020425         0.000743              9        0.000621   \\n3391         0.028043         0.001157             10        0.000246   \\n3392         0.028341         0.000860              7        0.000338   \\n3393         0.036436         0.000594              5        0.000204   \\n3394         0.029855         0.000811              4        0.000224   \\n\\n      MinimapRightClicks  NumberOfPACs  GapBetweenPACs  ActionLatency  \\\\\\n0               0.000392      0.004849         32.6677        40.8673   \\n1               0.000432      0.004307         32.9194        42.3454   \\n2               0.000461      0.002926         44.6475        75.3548   \\n3               0.000543      0.003783         29.2203        53.7352   \\n4               0.001329      0.002368         22.6885        62.0813   \\n...                  ...           ...             ...            ...   \\n3390            0.000146      0.004555         18.6059        42.8342   \\n3391            0.001083      0.004259         14.3023        36.1156   \\n3392            0.000169      0.004439         12.4028        39.5156   \\n3393            0.000780      0.004346         11.6910        34.8547   \\n3394            0.001315      0.005566         20.0537        33.5142   \\n\\n      ActionsInPAC  TotalMapExplored  WorkersMade  UniqueUnitsMade  \\\\\\n0           4.7508                28     0.001397                6   \\n1           4.8434                22     0.001193                5   \\n2           4.0430                22     0.000745                6   \\n3           4.9155                19     0.000426                7   \\n4           9.3740                15     0.001174                4   \\n...            ...               ...          ...              ...   \\n3390        6.2754                46     0.000877                5   \\n3391        7.1965                16     0.000788                4   \\n3392        6.3979                19     0.001260                4   \\n3393        7.9615                15     0.000613                6   \\n3394        6.3719                27     0.001566                7   \\n\\n      ComplexUnitsMade  ComplexAbilitiesUsed  \\n0             0.000000              0.000000  \\n1             0.000000              0.000208  \\n2             0.000000              0.000189  \\n3             0.000000              0.000384  \\n4             0.000000              0.000019  \\n...                ...                   ...  \\n3390          0.000000              0.000000  \\n3391          0.000000              0.000000  \\n3392          0.000000              0.000000  \\n3393          0.000000              0.000631  \\n3394          0.000457              0.000895  \\n\\n[3395 rows x 20 columns]'"
      ]
     },
     "execution_count": 5,
     "metadata": {},
     "output_type": "execute_result"
    }
   ],
   "source": [
    "# Looking at the structure of the dataset\n",
    "\n",
    "str(player_df)"
   ]
  },
  {
   "cell_type": "code",
   "execution_count": 6,
   "id": "15fd4cff",
   "metadata": {},
   "outputs": [
    {
     "data": {
      "text/html": [
       "<div>\n",
       "<style scoped>\n",
       "    .dataframe tbody tr th:only-of-type {\n",
       "        vertical-align: middle;\n",
       "    }\n",
       "\n",
       "    .dataframe tbody tr th {\n",
       "        vertical-align: top;\n",
       "    }\n",
       "\n",
       "    .dataframe thead th {\n",
       "        text-align: right;\n",
       "    }\n",
       "</style>\n",
       "<table border=\"1\" class=\"dataframe\">\n",
       "  <thead>\n",
       "    <tr style=\"text-align: right;\">\n",
       "      <th></th>\n",
       "      <th>GameID</th>\n",
       "      <th>LeagueIndex</th>\n",
       "      <th>APM</th>\n",
       "      <th>SelectByHotkeys</th>\n",
       "      <th>AssignToHotkeys</th>\n",
       "      <th>UniqueHotkeys</th>\n",
       "      <th>MinimapAttacks</th>\n",
       "      <th>MinimapRightClicks</th>\n",
       "      <th>NumberOfPACs</th>\n",
       "      <th>GapBetweenPACs</th>\n",
       "      <th>ActionLatency</th>\n",
       "      <th>ActionsInPAC</th>\n",
       "      <th>TotalMapExplored</th>\n",
       "      <th>WorkersMade</th>\n",
       "      <th>UniqueUnitsMade</th>\n",
       "      <th>ComplexUnitsMade</th>\n",
       "      <th>ComplexAbilitiesUsed</th>\n",
       "    </tr>\n",
       "  </thead>\n",
       "  <tbody>\n",
       "    <tr>\n",
       "      <th>count</th>\n",
       "      <td>3395.000000</td>\n",
       "      <td>3395.000000</td>\n",
       "      <td>3395.000000</td>\n",
       "      <td>3395.000000</td>\n",
       "      <td>3395.000000</td>\n",
       "      <td>3395.000000</td>\n",
       "      <td>3395.000000</td>\n",
       "      <td>3395.000000</td>\n",
       "      <td>3395.000000</td>\n",
       "      <td>3395.000000</td>\n",
       "      <td>3395.000000</td>\n",
       "      <td>3395.000000</td>\n",
       "      <td>3395.000000</td>\n",
       "      <td>3395.000000</td>\n",
       "      <td>3395.000000</td>\n",
       "      <td>3395.000000</td>\n",
       "      <td>3395.000000</td>\n",
       "    </tr>\n",
       "    <tr>\n",
       "      <th>mean</th>\n",
       "      <td>4805.012371</td>\n",
       "      <td>4.184094</td>\n",
       "      <td>117.046947</td>\n",
       "      <td>0.004299</td>\n",
       "      <td>0.000374</td>\n",
       "      <td>4.364654</td>\n",
       "      <td>0.000098</td>\n",
       "      <td>0.000387</td>\n",
       "      <td>0.003463</td>\n",
       "      <td>40.361562</td>\n",
       "      <td>63.739403</td>\n",
       "      <td>5.272988</td>\n",
       "      <td>22.131664</td>\n",
       "      <td>0.001032</td>\n",
       "      <td>6.534021</td>\n",
       "      <td>0.000059</td>\n",
       "      <td>0.000142</td>\n",
       "    </tr>\n",
       "    <tr>\n",
       "      <th>std</th>\n",
       "      <td>2719.944851</td>\n",
       "      <td>1.517327</td>\n",
       "      <td>51.945291</td>\n",
       "      <td>0.005284</td>\n",
       "      <td>0.000225</td>\n",
       "      <td>2.360333</td>\n",
       "      <td>0.000166</td>\n",
       "      <td>0.000377</td>\n",
       "      <td>0.000992</td>\n",
       "      <td>17.153570</td>\n",
       "      <td>19.238869</td>\n",
       "      <td>1.494835</td>\n",
       "      <td>7.431719</td>\n",
       "      <td>0.000519</td>\n",
       "      <td>1.857697</td>\n",
       "      <td>0.000111</td>\n",
       "      <td>0.000265</td>\n",
       "    </tr>\n",
       "    <tr>\n",
       "      <th>min</th>\n",
       "      <td>52.000000</td>\n",
       "      <td>1.000000</td>\n",
       "      <td>22.059600</td>\n",
       "      <td>0.000000</td>\n",
       "      <td>0.000000</td>\n",
       "      <td>0.000000</td>\n",
       "      <td>0.000000</td>\n",
       "      <td>0.000000</td>\n",
       "      <td>0.000679</td>\n",
       "      <td>6.666700</td>\n",
       "      <td>24.093600</td>\n",
       "      <td>2.038900</td>\n",
       "      <td>5.000000</td>\n",
       "      <td>0.000077</td>\n",
       "      <td>2.000000</td>\n",
       "      <td>0.000000</td>\n",
       "      <td>0.000000</td>\n",
       "    </tr>\n",
       "    <tr>\n",
       "      <th>25%</th>\n",
       "      <td>2464.500000</td>\n",
       "      <td>3.000000</td>\n",
       "      <td>79.900200</td>\n",
       "      <td>0.001258</td>\n",
       "      <td>0.000204</td>\n",
       "      <td>3.000000</td>\n",
       "      <td>0.000000</td>\n",
       "      <td>0.000140</td>\n",
       "      <td>0.002754</td>\n",
       "      <td>28.957750</td>\n",
       "      <td>50.446600</td>\n",
       "      <td>4.272850</td>\n",
       "      <td>17.000000</td>\n",
       "      <td>0.000683</td>\n",
       "      <td>5.000000</td>\n",
       "      <td>0.000000</td>\n",
       "      <td>0.000000</td>\n",
       "    </tr>\n",
       "    <tr>\n",
       "      <th>50%</th>\n",
       "      <td>4874.000000</td>\n",
       "      <td>4.000000</td>\n",
       "      <td>108.010200</td>\n",
       "      <td>0.002500</td>\n",
       "      <td>0.000353</td>\n",
       "      <td>4.000000</td>\n",
       "      <td>0.000040</td>\n",
       "      <td>0.000281</td>\n",
       "      <td>0.003395</td>\n",
       "      <td>36.723500</td>\n",
       "      <td>60.931800</td>\n",
       "      <td>5.095500</td>\n",
       "      <td>22.000000</td>\n",
       "      <td>0.000905</td>\n",
       "      <td>6.000000</td>\n",
       "      <td>0.000000</td>\n",
       "      <td>0.000020</td>\n",
       "    </tr>\n",
       "    <tr>\n",
       "      <th>75%</th>\n",
       "      <td>7108.500000</td>\n",
       "      <td>5.000000</td>\n",
       "      <td>142.790400</td>\n",
       "      <td>0.005133</td>\n",
       "      <td>0.000499</td>\n",
       "      <td>6.000000</td>\n",
       "      <td>0.000119</td>\n",
       "      <td>0.000514</td>\n",
       "      <td>0.004027</td>\n",
       "      <td>48.290500</td>\n",
       "      <td>73.681300</td>\n",
       "      <td>6.033600</td>\n",
       "      <td>27.000000</td>\n",
       "      <td>0.001259</td>\n",
       "      <td>8.000000</td>\n",
       "      <td>0.000086</td>\n",
       "      <td>0.000181</td>\n",
       "    </tr>\n",
       "    <tr>\n",
       "      <th>max</th>\n",
       "      <td>10095.000000</td>\n",
       "      <td>8.000000</td>\n",
       "      <td>389.831400</td>\n",
       "      <td>0.043088</td>\n",
       "      <td>0.001752</td>\n",
       "      <td>10.000000</td>\n",
       "      <td>0.003019</td>\n",
       "      <td>0.004041</td>\n",
       "      <td>0.007971</td>\n",
       "      <td>237.142900</td>\n",
       "      <td>176.372100</td>\n",
       "      <td>18.558100</td>\n",
       "      <td>58.000000</td>\n",
       "      <td>0.005149</td>\n",
       "      <td>13.000000</td>\n",
       "      <td>0.000902</td>\n",
       "      <td>0.003084</td>\n",
       "    </tr>\n",
       "  </tbody>\n",
       "</table>\n",
       "</div>"
      ],
      "text/plain": [
       "             GameID  LeagueIndex          APM  SelectByHotkeys  \\\n",
       "count   3395.000000  3395.000000  3395.000000      3395.000000   \n",
       "mean    4805.012371     4.184094   117.046947         0.004299   \n",
       "std     2719.944851     1.517327    51.945291         0.005284   \n",
       "min       52.000000     1.000000    22.059600         0.000000   \n",
       "25%     2464.500000     3.000000    79.900200         0.001258   \n",
       "50%     4874.000000     4.000000   108.010200         0.002500   \n",
       "75%     7108.500000     5.000000   142.790400         0.005133   \n",
       "max    10095.000000     8.000000   389.831400         0.043088   \n",
       "\n",
       "       AssignToHotkeys  UniqueHotkeys  MinimapAttacks  MinimapRightClicks  \\\n",
       "count      3395.000000    3395.000000     3395.000000         3395.000000   \n",
       "mean          0.000374       4.364654        0.000098            0.000387   \n",
       "std           0.000225       2.360333        0.000166            0.000377   \n",
       "min           0.000000       0.000000        0.000000            0.000000   \n",
       "25%           0.000204       3.000000        0.000000            0.000140   \n",
       "50%           0.000353       4.000000        0.000040            0.000281   \n",
       "75%           0.000499       6.000000        0.000119            0.000514   \n",
       "max           0.001752      10.000000        0.003019            0.004041   \n",
       "\n",
       "       NumberOfPACs  GapBetweenPACs  ActionLatency  ActionsInPAC  \\\n",
       "count   3395.000000     3395.000000    3395.000000   3395.000000   \n",
       "mean       0.003463       40.361562      63.739403      5.272988   \n",
       "std        0.000992       17.153570      19.238869      1.494835   \n",
       "min        0.000679        6.666700      24.093600      2.038900   \n",
       "25%        0.002754       28.957750      50.446600      4.272850   \n",
       "50%        0.003395       36.723500      60.931800      5.095500   \n",
       "75%        0.004027       48.290500      73.681300      6.033600   \n",
       "max        0.007971      237.142900     176.372100     18.558100   \n",
       "\n",
       "       TotalMapExplored  WorkersMade  UniqueUnitsMade  ComplexUnitsMade  \\\n",
       "count       3395.000000  3395.000000      3395.000000       3395.000000   \n",
       "mean          22.131664     0.001032         6.534021          0.000059   \n",
       "std            7.431719     0.000519         1.857697          0.000111   \n",
       "min            5.000000     0.000077         2.000000          0.000000   \n",
       "25%           17.000000     0.000683         5.000000          0.000000   \n",
       "50%           22.000000     0.000905         6.000000          0.000000   \n",
       "75%           27.000000     0.001259         8.000000          0.000086   \n",
       "max           58.000000     0.005149        13.000000          0.000902   \n",
       "\n",
       "       ComplexAbilitiesUsed  \n",
       "count           3395.000000  \n",
       "mean               0.000142  \n",
       "std                0.000265  \n",
       "min                0.000000  \n",
       "25%                0.000000  \n",
       "50%                0.000020  \n",
       "75%                0.000181  \n",
       "max                0.003084  "
      ]
     },
     "execution_count": 6,
     "metadata": {},
     "output_type": "execute_result"
    }
   ],
   "source": [
    "# Finding out the summary of the dataset\n",
    "\n",
    "player_df.describe()"
   ]
  },
  {
   "cell_type": "markdown",
   "id": "4d9446bf",
   "metadata": {},
   "source": [
    "From this we can say that the highest rank in the league is 8, lowest is one. In the league, we can also observe that the least action per minute is equal to 22, and the maximum action per minute is 390. The number of 24x24 game coordinate grids viewed by the player per timestamp that is the 'TotalMapExplored' is ranging from 5 to 58 and other features are as represented above."
   ]
  },
  {
   "cell_type": "markdown",
   "id": "a05736dc",
   "metadata": {},
   "source": [
    "  #### EXPLORATORY DATA ANALYSIS"
   ]
  },
  {
   "cell_type": "code",
   "execution_count": 7,
   "id": "ce84c793",
   "metadata": {},
   "outputs": [
    {
     "data": {
      "text/plain": [
       "GameID                  0\n",
       "LeagueIndex             0\n",
       "Age                     0\n",
       "HoursPerWeek            0\n",
       "TotalHours              0\n",
       "APM                     0\n",
       "SelectByHotkeys         0\n",
       "AssignToHotkeys         0\n",
       "UniqueHotkeys           0\n",
       "MinimapAttacks          0\n",
       "MinimapRightClicks      0\n",
       "NumberOfPACs            0\n",
       "GapBetweenPACs          0\n",
       "ActionLatency           0\n",
       "ActionsInPAC            0\n",
       "TotalMapExplored        0\n",
       "WorkersMade             0\n",
       "UniqueUnitsMade         0\n",
       "ComplexUnitsMade        0\n",
       "ComplexAbilitiesUsed    0\n",
       "dtype: int64"
      ]
     },
     "execution_count": 7,
     "metadata": {},
     "output_type": "execute_result"
    }
   ],
   "source": [
    "# Looking at the dataset if there are any null values\n",
    "\n",
    "player_df.isnull().sum()"
   ]
  },
  {
   "cell_type": "markdown",
   "id": "c034418f",
   "metadata": {},
   "source": [
    "There are no null values in the dataset, we can now check for the correlation among the variables and remove any if necessary."
   ]
  },
  {
   "cell_type": "code",
   "execution_count": 8,
   "id": "44b2c9db",
   "metadata": {},
   "outputs": [
    {
     "name": "stderr",
     "output_type": "stream",
     "text": [
      "C:\\Users\\Saharsha'\\AppData\\Local\\Temp\\ipykernel_1140\\846844929.py:1: FutureWarning: The default value of numeric_only in DataFrame.corr is deprecated. In a future version, it will default to False. Select only valid columns or specify the value of numeric_only to silence this warning.\n",
      "  player_df.corr()\n"
     ]
    },
    {
     "data": {
      "text/html": [
       "<div>\n",
       "<style scoped>\n",
       "    .dataframe tbody tr th:only-of-type {\n",
       "        vertical-align: middle;\n",
       "    }\n",
       "\n",
       "    .dataframe tbody tr th {\n",
       "        vertical-align: top;\n",
       "    }\n",
       "\n",
       "    .dataframe thead th {\n",
       "        text-align: right;\n",
       "    }\n",
       "</style>\n",
       "<table border=\"1\" class=\"dataframe\">\n",
       "  <thead>\n",
       "    <tr style=\"text-align: right;\">\n",
       "      <th></th>\n",
       "      <th>GameID</th>\n",
       "      <th>LeagueIndex</th>\n",
       "      <th>APM</th>\n",
       "      <th>SelectByHotkeys</th>\n",
       "      <th>AssignToHotkeys</th>\n",
       "      <th>UniqueHotkeys</th>\n",
       "      <th>MinimapAttacks</th>\n",
       "      <th>MinimapRightClicks</th>\n",
       "      <th>NumberOfPACs</th>\n",
       "      <th>GapBetweenPACs</th>\n",
       "      <th>ActionLatency</th>\n",
       "      <th>ActionsInPAC</th>\n",
       "      <th>TotalMapExplored</th>\n",
       "      <th>WorkersMade</th>\n",
       "      <th>UniqueUnitsMade</th>\n",
       "      <th>ComplexUnitsMade</th>\n",
       "      <th>ComplexAbilitiesUsed</th>\n",
       "    </tr>\n",
       "  </thead>\n",
       "  <tbody>\n",
       "    <tr>\n",
       "      <th>GameID</th>\n",
       "      <td>1.000000</td>\n",
       "      <td>0.102601</td>\n",
       "      <td>0.159691</td>\n",
       "      <td>0.160802</td>\n",
       "      <td>0.136184</td>\n",
       "      <td>0.117366</td>\n",
       "      <td>0.074045</td>\n",
       "      <td>0.046583</td>\n",
       "      <td>0.089635</td>\n",
       "      <td>-0.102572</td>\n",
       "      <td>-0.087222</td>\n",
       "      <td>0.047255</td>\n",
       "      <td>0.032313</td>\n",
       "      <td>-0.011636</td>\n",
       "      <td>0.021204</td>\n",
       "      <td>-0.027098</td>\n",
       "      <td>0.003248</td>\n",
       "    </tr>\n",
       "    <tr>\n",
       "      <th>LeagueIndex</th>\n",
       "      <td>0.102601</td>\n",
       "      <td>1.000000</td>\n",
       "      <td>0.662309</td>\n",
       "      <td>0.490599</td>\n",
       "      <td>0.531125</td>\n",
       "      <td>0.351213</td>\n",
       "      <td>0.312544</td>\n",
       "      <td>0.233231</td>\n",
       "      <td>0.612192</td>\n",
       "      <td>-0.553246</td>\n",
       "      <td>-0.673939</td>\n",
       "      <td>0.143121</td>\n",
       "      <td>0.220676</td>\n",
       "      <td>0.295643</td>\n",
       "      <td>0.133508</td>\n",
       "      <td>0.148834</td>\n",
       "      <td>0.145733</td>\n",
       "    </tr>\n",
       "    <tr>\n",
       "      <th>APM</th>\n",
       "      <td>0.159691</td>\n",
       "      <td>0.662309</td>\n",
       "      <td>1.000000</td>\n",
       "      <td>0.840693</td>\n",
       "      <td>0.578416</td>\n",
       "      <td>0.361704</td>\n",
       "      <td>0.271021</td>\n",
       "      <td>0.322179</td>\n",
       "      <td>0.651237</td>\n",
       "      <td>-0.575275</td>\n",
       "      <td>-0.722402</td>\n",
       "      <td>0.383985</td>\n",
       "      <td>0.220749</td>\n",
       "      <td>0.349692</td>\n",
       "      <td>0.100844</td>\n",
       "      <td>0.136143</td>\n",
       "      <td>0.131587</td>\n",
       "    </tr>\n",
       "    <tr>\n",
       "      <th>SelectByHotkeys</th>\n",
       "      <td>0.160802</td>\n",
       "      <td>0.490599</td>\n",
       "      <td>0.840693</td>\n",
       "      <td>1.000000</td>\n",
       "      <td>0.504526</td>\n",
       "      <td>0.302096</td>\n",
       "      <td>0.197158</td>\n",
       "      <td>0.143368</td>\n",
       "      <td>0.398505</td>\n",
       "      <td>-0.304290</td>\n",
       "      <td>-0.415388</td>\n",
       "      <td>0.163282</td>\n",
       "      <td>0.083481</td>\n",
       "      <td>0.141723</td>\n",
       "      <td>0.006121</td>\n",
       "      <td>0.044002</td>\n",
       "      <td>0.061037</td>\n",
       "    </tr>\n",
       "    <tr>\n",
       "      <th>AssignToHotkeys</th>\n",
       "      <td>0.136184</td>\n",
       "      <td>0.531125</td>\n",
       "      <td>0.578416</td>\n",
       "      <td>0.504526</td>\n",
       "      <td>1.000000</td>\n",
       "      <td>0.420242</td>\n",
       "      <td>0.242196</td>\n",
       "      <td>0.193043</td>\n",
       "      <td>0.486729</td>\n",
       "      <td>-0.396891</td>\n",
       "      <td>-0.482191</td>\n",
       "      <td>0.093668</td>\n",
       "      <td>0.192928</td>\n",
       "      <td>0.183065</td>\n",
       "      <td>0.132829</td>\n",
       "      <td>0.144603</td>\n",
       "      <td>0.154410</td>\n",
       "    </tr>\n",
       "    <tr>\n",
       "      <th>UniqueHotkeys</th>\n",
       "      <td>0.117366</td>\n",
       "      <td>0.351213</td>\n",
       "      <td>0.361704</td>\n",
       "      <td>0.302096</td>\n",
       "      <td>0.420242</td>\n",
       "      <td>1.000000</td>\n",
       "      <td>0.180592</td>\n",
       "      <td>0.141576</td>\n",
       "      <td>0.372079</td>\n",
       "      <td>-0.242815</td>\n",
       "      <td>-0.323103</td>\n",
       "      <td>-0.016400</td>\n",
       "      <td>0.264650</td>\n",
       "      <td>0.108141</td>\n",
       "      <td>0.225030</td>\n",
       "      <td>0.110363</td>\n",
       "      <td>0.102453</td>\n",
       "    </tr>\n",
       "    <tr>\n",
       "      <th>MinimapAttacks</th>\n",
       "      <td>0.074045</td>\n",
       "      <td>0.312544</td>\n",
       "      <td>0.271021</td>\n",
       "      <td>0.197158</td>\n",
       "      <td>0.242196</td>\n",
       "      <td>0.180592</td>\n",
       "      <td>1.000000</td>\n",
       "      <td>0.242269</td>\n",
       "      <td>0.177343</td>\n",
       "      <td>-0.237633</td>\n",
       "      <td>-0.199904</td>\n",
       "      <td>0.134804</td>\n",
       "      <td>0.166392</td>\n",
       "      <td>0.077624</td>\n",
       "      <td>0.120824</td>\n",
       "      <td>0.040239</td>\n",
       "      <td>0.044528</td>\n",
       "    </tr>\n",
       "    <tr>\n",
       "      <th>MinimapRightClicks</th>\n",
       "      <td>0.046583</td>\n",
       "      <td>0.233231</td>\n",
       "      <td>0.322179</td>\n",
       "      <td>0.143368</td>\n",
       "      <td>0.193043</td>\n",
       "      <td>0.141576</td>\n",
       "      <td>0.242269</td>\n",
       "      <td>1.000000</td>\n",
       "      <td>0.176137</td>\n",
       "      <td>-0.254466</td>\n",
       "      <td>-0.230660</td>\n",
       "      <td>0.307512</td>\n",
       "      <td>0.172592</td>\n",
       "      <td>0.206594</td>\n",
       "      <td>0.148699</td>\n",
       "      <td>0.091604</td>\n",
       "      <td>0.090650</td>\n",
       "    </tr>\n",
       "    <tr>\n",
       "      <th>NumberOfPACs</th>\n",
       "      <td>0.089635</td>\n",
       "      <td>0.612192</td>\n",
       "      <td>0.651237</td>\n",
       "      <td>0.398505</td>\n",
       "      <td>0.486729</td>\n",
       "      <td>0.372079</td>\n",
       "      <td>0.177343</td>\n",
       "      <td>0.176137</td>\n",
       "      <td>1.000000</td>\n",
       "      <td>-0.506261</td>\n",
       "      <td>-0.820334</td>\n",
       "      <td>-0.232018</td>\n",
       "      <td>0.460275</td>\n",
       "      <td>0.277891</td>\n",
       "      <td>0.306295</td>\n",
       "      <td>0.181484</td>\n",
       "      <td>0.168293</td>\n",
       "    </tr>\n",
       "    <tr>\n",
       "      <th>GapBetweenPACs</th>\n",
       "      <td>-0.102572</td>\n",
       "      <td>-0.553246</td>\n",
       "      <td>-0.575275</td>\n",
       "      <td>-0.304290</td>\n",
       "      <td>-0.396891</td>\n",
       "      <td>-0.242815</td>\n",
       "      <td>-0.237633</td>\n",
       "      <td>-0.254466</td>\n",
       "      <td>-0.506261</td>\n",
       "      <td>1.000000</td>\n",
       "      <td>0.689402</td>\n",
       "      <td>-0.311072</td>\n",
       "      <td>-0.095330</td>\n",
       "      <td>-0.235419</td>\n",
       "      <td>-0.084855</td>\n",
       "      <td>-0.074659</td>\n",
       "      <td>-0.090566</td>\n",
       "    </tr>\n",
       "    <tr>\n",
       "      <th>ActionLatency</th>\n",
       "      <td>-0.087222</td>\n",
       "      <td>-0.673939</td>\n",
       "      <td>-0.722402</td>\n",
       "      <td>-0.415388</td>\n",
       "      <td>-0.482191</td>\n",
       "      <td>-0.323103</td>\n",
       "      <td>-0.199904</td>\n",
       "      <td>-0.230660</td>\n",
       "      <td>-0.820334</td>\n",
       "      <td>0.689402</td>\n",
       "      <td>1.000000</td>\n",
       "      <td>-0.110224</td>\n",
       "      <td>-0.343314</td>\n",
       "      <td>-0.309175</td>\n",
       "      <td>-0.212610</td>\n",
       "      <td>-0.186407</td>\n",
       "      <td>-0.184372</td>\n",
       "    </tr>\n",
       "    <tr>\n",
       "      <th>ActionsInPAC</th>\n",
       "      <td>0.047255</td>\n",
       "      <td>0.143121</td>\n",
       "      <td>0.383985</td>\n",
       "      <td>0.163282</td>\n",
       "      <td>0.093668</td>\n",
       "      <td>-0.016400</td>\n",
       "      <td>0.134804</td>\n",
       "      <td>0.307512</td>\n",
       "      <td>-0.232018</td>\n",
       "      <td>-0.311072</td>\n",
       "      <td>-0.110224</td>\n",
       "      <td>1.000000</td>\n",
       "      <td>-0.157215</td>\n",
       "      <td>0.251795</td>\n",
       "      <td>-0.133697</td>\n",
       "      <td>0.052725</td>\n",
       "      <td>0.054536</td>\n",
       "    </tr>\n",
       "    <tr>\n",
       "      <th>TotalMapExplored</th>\n",
       "      <td>0.032313</td>\n",
       "      <td>0.220676</td>\n",
       "      <td>0.220749</td>\n",
       "      <td>0.083481</td>\n",
       "      <td>0.192928</td>\n",
       "      <td>0.264650</td>\n",
       "      <td>0.166392</td>\n",
       "      <td>0.172592</td>\n",
       "      <td>0.460275</td>\n",
       "      <td>-0.095330</td>\n",
       "      <td>-0.343314</td>\n",
       "      <td>-0.157215</td>\n",
       "      <td>1.000000</td>\n",
       "      <td>0.131507</td>\n",
       "      <td>0.572768</td>\n",
       "      <td>0.307762</td>\n",
       "      <td>0.248257</td>\n",
       "    </tr>\n",
       "    <tr>\n",
       "      <th>WorkersMade</th>\n",
       "      <td>-0.011636</td>\n",
       "      <td>0.295643</td>\n",
       "      <td>0.349692</td>\n",
       "      <td>0.141723</td>\n",
       "      <td>0.183065</td>\n",
       "      <td>0.108141</td>\n",
       "      <td>0.077624</td>\n",
       "      <td>0.206594</td>\n",
       "      <td>0.277891</td>\n",
       "      <td>-0.235419</td>\n",
       "      <td>-0.309175</td>\n",
       "      <td>0.251795</td>\n",
       "      <td>0.131507</td>\n",
       "      <td>1.000000</td>\n",
       "      <td>0.113504</td>\n",
       "      <td>0.203637</td>\n",
       "      <td>0.101942</td>\n",
       "    </tr>\n",
       "    <tr>\n",
       "      <th>UniqueUnitsMade</th>\n",
       "      <td>0.021204</td>\n",
       "      <td>0.133508</td>\n",
       "      <td>0.100844</td>\n",
       "      <td>0.006121</td>\n",
       "      <td>0.132829</td>\n",
       "      <td>0.225030</td>\n",
       "      <td>0.120824</td>\n",
       "      <td>0.148699</td>\n",
       "      <td>0.306295</td>\n",
       "      <td>-0.084855</td>\n",
       "      <td>-0.212610</td>\n",
       "      <td>-0.133697</td>\n",
       "      <td>0.572768</td>\n",
       "      <td>0.113504</td>\n",
       "      <td>1.000000</td>\n",
       "      <td>0.381497</td>\n",
       "      <td>0.291829</td>\n",
       "    </tr>\n",
       "    <tr>\n",
       "      <th>ComplexUnitsMade</th>\n",
       "      <td>-0.027098</td>\n",
       "      <td>0.148834</td>\n",
       "      <td>0.136143</td>\n",
       "      <td>0.044002</td>\n",
       "      <td>0.144603</td>\n",
       "      <td>0.110363</td>\n",
       "      <td>0.040239</td>\n",
       "      <td>0.091604</td>\n",
       "      <td>0.181484</td>\n",
       "      <td>-0.074659</td>\n",
       "      <td>-0.186407</td>\n",
       "      <td>0.052725</td>\n",
       "      <td>0.307762</td>\n",
       "      <td>0.203637</td>\n",
       "      <td>0.381497</td>\n",
       "      <td>1.000000</td>\n",
       "      <td>0.616680</td>\n",
       "    </tr>\n",
       "    <tr>\n",
       "      <th>ComplexAbilitiesUsed</th>\n",
       "      <td>0.003248</td>\n",
       "      <td>0.145733</td>\n",
       "      <td>0.131587</td>\n",
       "      <td>0.061037</td>\n",
       "      <td>0.154410</td>\n",
       "      <td>0.102453</td>\n",
       "      <td>0.044528</td>\n",
       "      <td>0.090650</td>\n",
       "      <td>0.168293</td>\n",
       "      <td>-0.090566</td>\n",
       "      <td>-0.184372</td>\n",
       "      <td>0.054536</td>\n",
       "      <td>0.248257</td>\n",
       "      <td>0.101942</td>\n",
       "      <td>0.291829</td>\n",
       "      <td>0.616680</td>\n",
       "      <td>1.000000</td>\n",
       "    </tr>\n",
       "  </tbody>\n",
       "</table>\n",
       "</div>"
      ],
      "text/plain": [
       "                        GameID  LeagueIndex       APM  SelectByHotkeys  \\\n",
       "GameID                1.000000     0.102601  0.159691         0.160802   \n",
       "LeagueIndex           0.102601     1.000000  0.662309         0.490599   \n",
       "APM                   0.159691     0.662309  1.000000         0.840693   \n",
       "SelectByHotkeys       0.160802     0.490599  0.840693         1.000000   \n",
       "AssignToHotkeys       0.136184     0.531125  0.578416         0.504526   \n",
       "UniqueHotkeys         0.117366     0.351213  0.361704         0.302096   \n",
       "MinimapAttacks        0.074045     0.312544  0.271021         0.197158   \n",
       "MinimapRightClicks    0.046583     0.233231  0.322179         0.143368   \n",
       "NumberOfPACs          0.089635     0.612192  0.651237         0.398505   \n",
       "GapBetweenPACs       -0.102572    -0.553246 -0.575275        -0.304290   \n",
       "ActionLatency        -0.087222    -0.673939 -0.722402        -0.415388   \n",
       "ActionsInPAC          0.047255     0.143121  0.383985         0.163282   \n",
       "TotalMapExplored      0.032313     0.220676  0.220749         0.083481   \n",
       "WorkersMade          -0.011636     0.295643  0.349692         0.141723   \n",
       "UniqueUnitsMade       0.021204     0.133508  0.100844         0.006121   \n",
       "ComplexUnitsMade     -0.027098     0.148834  0.136143         0.044002   \n",
       "ComplexAbilitiesUsed  0.003248     0.145733  0.131587         0.061037   \n",
       "\n",
       "                      AssignToHotkeys  UniqueHotkeys  MinimapAttacks  \\\n",
       "GameID                       0.136184       0.117366        0.074045   \n",
       "LeagueIndex                  0.531125       0.351213        0.312544   \n",
       "APM                          0.578416       0.361704        0.271021   \n",
       "SelectByHotkeys              0.504526       0.302096        0.197158   \n",
       "AssignToHotkeys              1.000000       0.420242        0.242196   \n",
       "UniqueHotkeys                0.420242       1.000000        0.180592   \n",
       "MinimapAttacks               0.242196       0.180592        1.000000   \n",
       "MinimapRightClicks           0.193043       0.141576        0.242269   \n",
       "NumberOfPACs                 0.486729       0.372079        0.177343   \n",
       "GapBetweenPACs              -0.396891      -0.242815       -0.237633   \n",
       "ActionLatency               -0.482191      -0.323103       -0.199904   \n",
       "ActionsInPAC                 0.093668      -0.016400        0.134804   \n",
       "TotalMapExplored             0.192928       0.264650        0.166392   \n",
       "WorkersMade                  0.183065       0.108141        0.077624   \n",
       "UniqueUnitsMade              0.132829       0.225030        0.120824   \n",
       "ComplexUnitsMade             0.144603       0.110363        0.040239   \n",
       "ComplexAbilitiesUsed         0.154410       0.102453        0.044528   \n",
       "\n",
       "                      MinimapRightClicks  NumberOfPACs  GapBetweenPACs  \\\n",
       "GameID                          0.046583      0.089635       -0.102572   \n",
       "LeagueIndex                     0.233231      0.612192       -0.553246   \n",
       "APM                             0.322179      0.651237       -0.575275   \n",
       "SelectByHotkeys                 0.143368      0.398505       -0.304290   \n",
       "AssignToHotkeys                 0.193043      0.486729       -0.396891   \n",
       "UniqueHotkeys                   0.141576      0.372079       -0.242815   \n",
       "MinimapAttacks                  0.242269      0.177343       -0.237633   \n",
       "MinimapRightClicks              1.000000      0.176137       -0.254466   \n",
       "NumberOfPACs                    0.176137      1.000000       -0.506261   \n",
       "GapBetweenPACs                 -0.254466     -0.506261        1.000000   \n",
       "ActionLatency                  -0.230660     -0.820334        0.689402   \n",
       "ActionsInPAC                    0.307512     -0.232018       -0.311072   \n",
       "TotalMapExplored                0.172592      0.460275       -0.095330   \n",
       "WorkersMade                     0.206594      0.277891       -0.235419   \n",
       "UniqueUnitsMade                 0.148699      0.306295       -0.084855   \n",
       "ComplexUnitsMade                0.091604      0.181484       -0.074659   \n",
       "ComplexAbilitiesUsed            0.090650      0.168293       -0.090566   \n",
       "\n",
       "                      ActionLatency  ActionsInPAC  TotalMapExplored  \\\n",
       "GameID                    -0.087222      0.047255          0.032313   \n",
       "LeagueIndex               -0.673939      0.143121          0.220676   \n",
       "APM                       -0.722402      0.383985          0.220749   \n",
       "SelectByHotkeys           -0.415388      0.163282          0.083481   \n",
       "AssignToHotkeys           -0.482191      0.093668          0.192928   \n",
       "UniqueHotkeys             -0.323103     -0.016400          0.264650   \n",
       "MinimapAttacks            -0.199904      0.134804          0.166392   \n",
       "MinimapRightClicks        -0.230660      0.307512          0.172592   \n",
       "NumberOfPACs              -0.820334     -0.232018          0.460275   \n",
       "GapBetweenPACs             0.689402     -0.311072         -0.095330   \n",
       "ActionLatency              1.000000     -0.110224         -0.343314   \n",
       "ActionsInPAC              -0.110224      1.000000         -0.157215   \n",
       "TotalMapExplored          -0.343314     -0.157215          1.000000   \n",
       "WorkersMade               -0.309175      0.251795          0.131507   \n",
       "UniqueUnitsMade           -0.212610     -0.133697          0.572768   \n",
       "ComplexUnitsMade          -0.186407      0.052725          0.307762   \n",
       "ComplexAbilitiesUsed      -0.184372      0.054536          0.248257   \n",
       "\n",
       "                      WorkersMade  UniqueUnitsMade  ComplexUnitsMade  \\\n",
       "GameID                  -0.011636         0.021204         -0.027098   \n",
       "LeagueIndex              0.295643         0.133508          0.148834   \n",
       "APM                      0.349692         0.100844          0.136143   \n",
       "SelectByHotkeys          0.141723         0.006121          0.044002   \n",
       "AssignToHotkeys          0.183065         0.132829          0.144603   \n",
       "UniqueHotkeys            0.108141         0.225030          0.110363   \n",
       "MinimapAttacks           0.077624         0.120824          0.040239   \n",
       "MinimapRightClicks       0.206594         0.148699          0.091604   \n",
       "NumberOfPACs             0.277891         0.306295          0.181484   \n",
       "GapBetweenPACs          -0.235419        -0.084855         -0.074659   \n",
       "ActionLatency           -0.309175        -0.212610         -0.186407   \n",
       "ActionsInPAC             0.251795        -0.133697          0.052725   \n",
       "TotalMapExplored         0.131507         0.572768          0.307762   \n",
       "WorkersMade              1.000000         0.113504          0.203637   \n",
       "UniqueUnitsMade          0.113504         1.000000          0.381497   \n",
       "ComplexUnitsMade         0.203637         0.381497          1.000000   \n",
       "ComplexAbilitiesUsed     0.101942         0.291829          0.616680   \n",
       "\n",
       "                      ComplexAbilitiesUsed  \n",
       "GameID                            0.003248  \n",
       "LeagueIndex                       0.145733  \n",
       "APM                               0.131587  \n",
       "SelectByHotkeys                   0.061037  \n",
       "AssignToHotkeys                   0.154410  \n",
       "UniqueHotkeys                     0.102453  \n",
       "MinimapAttacks                    0.044528  \n",
       "MinimapRightClicks                0.090650  \n",
       "NumberOfPACs                      0.168293  \n",
       "GapBetweenPACs                   -0.090566  \n",
       "ActionLatency                    -0.184372  \n",
       "ActionsInPAC                      0.054536  \n",
       "TotalMapExplored                  0.248257  \n",
       "WorkersMade                       0.101942  \n",
       "UniqueUnitsMade                   0.291829  \n",
       "ComplexUnitsMade                  0.616680  \n",
       "ComplexAbilitiesUsed              1.000000  "
      ]
     },
     "execution_count": 8,
     "metadata": {},
     "output_type": "execute_result"
    }
   ],
   "source": [
    "player_df.corr()"
   ]
  },
  {
   "cell_type": "markdown",
   "id": "51b0465a",
   "metadata": {},
   "source": [
    "All the features are having descent correlation with each other, but to compare 'GameId', 'UniqueUnitsMade', 'ComplexAbilitiesUsed' and 'ComplexUnitsMade'. But it is not advised to remove anything related to Units as it gives us the data regarding the player's performance, considering this 'GameId', 'ComplexAbilitiesUsed' variables can be removed safely."
   ]
  },
  {
   "cell_type": "code",
   "execution_count": 9,
   "id": "595192c0",
   "metadata": {},
   "outputs": [],
   "source": [
    "player_df = player_df.drop(['GameID', 'ComplexAbilitiesUsed'], axis = 1)"
   ]
  },
  {
   "cell_type": "code",
   "execution_count": 10,
   "id": "038e39b0",
   "metadata": {},
   "outputs": [
    {
     "data": {
      "text/plain": [
       "(3395, 18)"
      ]
     },
     "execution_count": 10,
     "metadata": {},
     "output_type": "execute_result"
    }
   ],
   "source": [
    "player_df.shape"
   ]
  },
  {
   "cell_type": "markdown",
   "id": "619e9302",
   "metadata": {},
   "source": [
    "Considering the problem is to predict the player rank based on the features provided, 'Age' may not give much significance to the player, 'HoursPerWeek' and 'TotalHours' are also insignificant to the leagueindex variable as they can only say the player's commitment and not the ranking."
   ]
  },
  {
   "cell_type": "code",
   "execution_count": 11,
   "id": "66939d16",
   "metadata": {},
   "outputs": [],
   "source": [
    "player_df = player_df.drop(['TotalHours', 'HoursPerWeek', 'Age'], axis = 1)"
   ]
  },
  {
   "cell_type": "code",
   "execution_count": 12,
   "id": "cbb7570d",
   "metadata": {},
   "outputs": [
    {
     "data": {
      "text/plain": [
       "(3395, 15)"
      ]
     },
     "execution_count": 12,
     "metadata": {},
     "output_type": "execute_result"
    }
   ],
   "source": [
    "player_df.shape"
   ]
  },
  {
   "cell_type": "markdown",
   "id": "0f712198",
   "metadata": {},
   "source": [
    "After removing necessary variables, we can start performing encoding the catergorical variables. But from the structure we can say that there are no categorical variables in the dataset. It's time to scale the dataset as the data is not properly scaled, so we can scale the dataset such that the mean is zero and standard deviation is 1. We can perform 'Z-score normalization' process to achieve this procedure."
   ]
  },
  {
   "cell_type": "markdown",
   "id": "3119b11c",
   "metadata": {},
   "source": [
    "#### SCALE THE DATASET"
   ]
  },
  {
   "cell_type": "code",
   "execution_count": 13,
   "id": "a6fc20ce",
   "metadata": {},
   "outputs": [],
   "source": [
    "# Scaling the dataset\n",
    "\n",
    "from sklearn.preprocessing import StandardScaler\n",
    "\n",
    "# Dropping target variable from the dataset\n",
    "y = player_df['LeagueIndex']\n",
    "features_df = player_df.drop('LeagueIndex', axis = 1)"
   ]
  },
  {
   "cell_type": "code",
   "execution_count": 14,
   "id": "3f13b05c",
   "metadata": {},
   "outputs": [
    {
     "data": {
      "text/plain": [
       "(3395, 14)"
      ]
     },
     "execution_count": 14,
     "metadata": {},
     "output_type": "execute_result"
    }
   ],
   "source": [
    "features_df.shape"
   ]
  },
  {
   "cell_type": "code",
   "execution_count": 15,
   "id": "a510a48b",
   "metadata": {},
   "outputs": [
    {
     "data": {
      "text/html": [
       "<div>\n",
       "<style scoped>\n",
       "    .dataframe tbody tr th:only-of-type {\n",
       "        vertical-align: middle;\n",
       "    }\n",
       "\n",
       "    .dataframe tbody tr th {\n",
       "        vertical-align: top;\n",
       "    }\n",
       "\n",
       "    .dataframe thead th {\n",
       "        text-align: right;\n",
       "    }\n",
       "</style>\n",
       "<table border=\"1\" class=\"dataframe\">\n",
       "  <thead>\n",
       "    <tr style=\"text-align: right;\">\n",
       "      <th></th>\n",
       "      <th>APM</th>\n",
       "      <th>SelectByHotkeys</th>\n",
       "      <th>AssignToHotkeys</th>\n",
       "      <th>UniqueHotkeys</th>\n",
       "      <th>MinimapAttacks</th>\n",
       "      <th>MinimapRightClicks</th>\n",
       "      <th>NumberOfPACs</th>\n",
       "      <th>GapBetweenPACs</th>\n",
       "      <th>ActionLatency</th>\n",
       "      <th>ActionsInPAC</th>\n",
       "      <th>TotalMapExplored</th>\n",
       "      <th>WorkersMade</th>\n",
       "      <th>UniqueUnitsMade</th>\n",
       "      <th>ComplexUnitsMade</th>\n",
       "    </tr>\n",
       "  </thead>\n",
       "  <tbody>\n",
       "    <tr>\n",
       "      <th>0</th>\n",
       "      <td>143.7180</td>\n",
       "      <td>0.003515</td>\n",
       "      <td>0.000220</td>\n",
       "      <td>7</td>\n",
       "      <td>0.000110</td>\n",
       "      <td>0.000392</td>\n",
       "      <td>0.004849</td>\n",
       "      <td>32.6677</td>\n",
       "      <td>40.8673</td>\n",
       "      <td>4.7508</td>\n",
       "      <td>28</td>\n",
       "      <td>0.001397</td>\n",
       "      <td>6</td>\n",
       "      <td>0.0</td>\n",
       "    </tr>\n",
       "    <tr>\n",
       "      <th>1</th>\n",
       "      <td>129.2322</td>\n",
       "      <td>0.003304</td>\n",
       "      <td>0.000259</td>\n",
       "      <td>4</td>\n",
       "      <td>0.000294</td>\n",
       "      <td>0.000432</td>\n",
       "      <td>0.004307</td>\n",
       "      <td>32.9194</td>\n",
       "      <td>42.3454</td>\n",
       "      <td>4.8434</td>\n",
       "      <td>22</td>\n",
       "      <td>0.001193</td>\n",
       "      <td>5</td>\n",
       "      <td>0.0</td>\n",
       "    </tr>\n",
       "    <tr>\n",
       "      <th>2</th>\n",
       "      <td>69.9612</td>\n",
       "      <td>0.001101</td>\n",
       "      <td>0.000336</td>\n",
       "      <td>4</td>\n",
       "      <td>0.000294</td>\n",
       "      <td>0.000461</td>\n",
       "      <td>0.002926</td>\n",
       "      <td>44.6475</td>\n",
       "      <td>75.3548</td>\n",
       "      <td>4.0430</td>\n",
       "      <td>22</td>\n",
       "      <td>0.000745</td>\n",
       "      <td>6</td>\n",
       "      <td>0.0</td>\n",
       "    </tr>\n",
       "    <tr>\n",
       "      <th>3</th>\n",
       "      <td>107.6016</td>\n",
       "      <td>0.001034</td>\n",
       "      <td>0.000213</td>\n",
       "      <td>1</td>\n",
       "      <td>0.000053</td>\n",
       "      <td>0.000543</td>\n",
       "      <td>0.003783</td>\n",
       "      <td>29.2203</td>\n",
       "      <td>53.7352</td>\n",
       "      <td>4.9155</td>\n",
       "      <td>19</td>\n",
       "      <td>0.000426</td>\n",
       "      <td>7</td>\n",
       "      <td>0.0</td>\n",
       "    </tr>\n",
       "    <tr>\n",
       "      <th>4</th>\n",
       "      <td>122.8908</td>\n",
       "      <td>0.001136</td>\n",
       "      <td>0.000327</td>\n",
       "      <td>2</td>\n",
       "      <td>0.000000</td>\n",
       "      <td>0.001329</td>\n",
       "      <td>0.002368</td>\n",
       "      <td>22.6885</td>\n",
       "      <td>62.0813</td>\n",
       "      <td>9.3740</td>\n",
       "      <td>15</td>\n",
       "      <td>0.001174</td>\n",
       "      <td>4</td>\n",
       "      <td>0.0</td>\n",
       "    </tr>\n",
       "  </tbody>\n",
       "</table>\n",
       "</div>"
      ],
      "text/plain": [
       "        APM  SelectByHotkeys  AssignToHotkeys  UniqueHotkeys  MinimapAttacks  \\\n",
       "0  143.7180         0.003515         0.000220              7        0.000110   \n",
       "1  129.2322         0.003304         0.000259              4        0.000294   \n",
       "2   69.9612         0.001101         0.000336              4        0.000294   \n",
       "3  107.6016         0.001034         0.000213              1        0.000053   \n",
       "4  122.8908         0.001136         0.000327              2        0.000000   \n",
       "\n",
       "   MinimapRightClicks  NumberOfPACs  GapBetweenPACs  ActionLatency  \\\n",
       "0            0.000392      0.004849         32.6677        40.8673   \n",
       "1            0.000432      0.004307         32.9194        42.3454   \n",
       "2            0.000461      0.002926         44.6475        75.3548   \n",
       "3            0.000543      0.003783         29.2203        53.7352   \n",
       "4            0.001329      0.002368         22.6885        62.0813   \n",
       "\n",
       "   ActionsInPAC  TotalMapExplored  WorkersMade  UniqueUnitsMade  \\\n",
       "0        4.7508                28     0.001397                6   \n",
       "1        4.8434                22     0.001193                5   \n",
       "2        4.0430                22     0.000745                6   \n",
       "3        4.9155                19     0.000426                7   \n",
       "4        9.3740                15     0.001174                4   \n",
       "\n",
       "   ComplexUnitsMade  \n",
       "0               0.0  \n",
       "1               0.0  \n",
       "2               0.0  \n",
       "3               0.0  \n",
       "4               0.0  "
      ]
     },
     "execution_count": 15,
     "metadata": {},
     "output_type": "execute_result"
    }
   ],
   "source": [
    "features_df.head()"
   ]
  },
  {
   "cell_type": "code",
   "execution_count": 16,
   "id": "6ded6f44",
   "metadata": {},
   "outputs": [],
   "source": [
    "# Scaling all the variables\n",
    "\n",
    "scaler = StandardScaler()\n",
    "\n",
    "scaled_df = scaler.fit_transform(features_df)"
   ]
  },
  {
   "cell_type": "code",
   "execution_count": 17,
   "id": "cebc188a",
   "metadata": {},
   "outputs": [],
   "source": [
    "scaled_player_df = pd.DataFrame(scaled_df, columns = features_df.columns)"
   ]
  },
  {
   "cell_type": "code",
   "execution_count": 18,
   "id": "0135802f",
   "metadata": {},
   "outputs": [
    {
     "data": {
      "text/html": [
       "<div>\n",
       "<style scoped>\n",
       "    .dataframe tbody tr th:only-of-type {\n",
       "        vertical-align: middle;\n",
       "    }\n",
       "\n",
       "    .dataframe tbody tr th {\n",
       "        vertical-align: top;\n",
       "    }\n",
       "\n",
       "    .dataframe thead th {\n",
       "        text-align: right;\n",
       "    }\n",
       "</style>\n",
       "<table border=\"1\" class=\"dataframe\">\n",
       "  <thead>\n",
       "    <tr style=\"text-align: right;\">\n",
       "      <th></th>\n",
       "      <th>APM</th>\n",
       "      <th>SelectByHotkeys</th>\n",
       "      <th>AssignToHotkeys</th>\n",
       "      <th>UniqueHotkeys</th>\n",
       "      <th>MinimapAttacks</th>\n",
       "      <th>MinimapRightClicks</th>\n",
       "      <th>NumberOfPACs</th>\n",
       "      <th>GapBetweenPACs</th>\n",
       "      <th>ActionLatency</th>\n",
       "      <th>ActionsInPAC</th>\n",
       "      <th>TotalMapExplored</th>\n",
       "      <th>WorkersMade</th>\n",
       "      <th>UniqueUnitsMade</th>\n",
       "      <th>ComplexUnitsMade</th>\n",
       "    </tr>\n",
       "  </thead>\n",
       "  <tbody>\n",
       "    <tr>\n",
       "      <th>0</th>\n",
       "      <td>0.513521</td>\n",
       "      <td>-0.148288</td>\n",
       "      <td>-0.684207</td>\n",
       "      <td>1.116679</td>\n",
       "      <td>0.069594</td>\n",
       "      <td>0.012948</td>\n",
       "      <td>1.397121</td>\n",
       "      <td>-0.448594</td>\n",
       "      <td>-1.189024</td>\n",
       "      <td>-0.349380</td>\n",
       "      <td>0.789750</td>\n",
       "      <td>0.703205</td>\n",
       "      <td>-0.287506</td>\n",
       "      <td>-0.535072</td>\n",
       "    </tr>\n",
       "    <tr>\n",
       "      <th>1</th>\n",
       "      <td>0.234613</td>\n",
       "      <td>-0.188288</td>\n",
       "      <td>-0.507399</td>\n",
       "      <td>-0.154515</td>\n",
       "      <td>1.180306</td>\n",
       "      <td>0.119380</td>\n",
       "      <td>0.850859</td>\n",
       "      <td>-0.433919</td>\n",
       "      <td>-1.112184</td>\n",
       "      <td>-0.287424</td>\n",
       "      <td>-0.017719</td>\n",
       "      <td>0.311824</td>\n",
       "      <td>-0.825886</td>\n",
       "      <td>-0.535072</td>\n",
       "    </tr>\n",
       "    <tr>\n",
       "      <th>2</th>\n",
       "      <td>-0.906582</td>\n",
       "      <td>-0.605182</td>\n",
       "      <td>-0.168988</td>\n",
       "      <td>-0.154515</td>\n",
       "      <td>1.177699</td>\n",
       "      <td>0.196244</td>\n",
       "      <td>-0.541384</td>\n",
       "      <td>0.249894</td>\n",
       "      <td>0.603835</td>\n",
       "      <td>-0.822947</td>\n",
       "      <td>-0.017719</td>\n",
       "      <td>-0.553320</td>\n",
       "      <td>-0.287506</td>\n",
       "      <td>-0.535072</td>\n",
       "    </tr>\n",
       "    <tr>\n",
       "      <th>3</th>\n",
       "      <td>-0.181859</td>\n",
       "      <td>-0.617967</td>\n",
       "      <td>-0.713535</td>\n",
       "      <td>-1.425710</td>\n",
       "      <td>-0.271524</td>\n",
       "      <td>0.413780</td>\n",
       "      <td>0.322194</td>\n",
       "      <td>-0.649597</td>\n",
       "      <td>-0.520076</td>\n",
       "      <td>-0.239184</td>\n",
       "      <td>-0.421454</td>\n",
       "      <td>-1.166793</td>\n",
       "      <td>0.250874</td>\n",
       "      <td>-0.535072</td>\n",
       "    </tr>\n",
       "    <tr>\n",
       "      <th>4</th>\n",
       "      <td>0.112517</td>\n",
       "      <td>-0.598573</td>\n",
       "      <td>-0.205646</td>\n",
       "      <td>-1.001978</td>\n",
       "      <td>-0.592757</td>\n",
       "      <td>2.496707</td>\n",
       "      <td>-1.103252</td>\n",
       "      <td>-1.030437</td>\n",
       "      <td>-0.086198</td>\n",
       "      <td>2.743858</td>\n",
       "      <td>-0.959766</td>\n",
       "      <td>0.275210</td>\n",
       "      <td>-1.364267</td>\n",
       "      <td>-0.535072</td>\n",
       "    </tr>\n",
       "  </tbody>\n",
       "</table>\n",
       "</div>"
      ],
      "text/plain": [
       "        APM  SelectByHotkeys  AssignToHotkeys  UniqueHotkeys  MinimapAttacks  \\\n",
       "0  0.513521        -0.148288        -0.684207       1.116679        0.069594   \n",
       "1  0.234613        -0.188288        -0.507399      -0.154515        1.180306   \n",
       "2 -0.906582        -0.605182        -0.168988      -0.154515        1.177699   \n",
       "3 -0.181859        -0.617967        -0.713535      -1.425710       -0.271524   \n",
       "4  0.112517        -0.598573        -0.205646      -1.001978       -0.592757   \n",
       "\n",
       "   MinimapRightClicks  NumberOfPACs  GapBetweenPACs  ActionLatency  \\\n",
       "0            0.012948      1.397121       -0.448594      -1.189024   \n",
       "1            0.119380      0.850859       -0.433919      -1.112184   \n",
       "2            0.196244     -0.541384        0.249894       0.603835   \n",
       "3            0.413780      0.322194       -0.649597      -0.520076   \n",
       "4            2.496707     -1.103252       -1.030437      -0.086198   \n",
       "\n",
       "   ActionsInPAC  TotalMapExplored  WorkersMade  UniqueUnitsMade  \\\n",
       "0     -0.349380          0.789750     0.703205        -0.287506   \n",
       "1     -0.287424         -0.017719     0.311824        -0.825886   \n",
       "2     -0.822947         -0.017719    -0.553320        -0.287506   \n",
       "3     -0.239184         -0.421454    -1.166793         0.250874   \n",
       "4      2.743858         -0.959766     0.275210        -1.364267   \n",
       "\n",
       "   ComplexUnitsMade  \n",
       "0         -0.535072  \n",
       "1         -0.535072  \n",
       "2         -0.535072  \n",
       "3         -0.535072  \n",
       "4         -0.535072  "
      ]
     },
     "execution_count": 18,
     "metadata": {},
     "output_type": "execute_result"
    }
   ],
   "source": [
    "scaled_player_df.head()"
   ]
  },
  {
   "cell_type": "markdown",
   "id": "f79a2355",
   "metadata": {},
   "source": [
    "As we can observe from the head of the scaled player dataset, all the data in the dataset are properly scaled where the mean is equal to zero and sd is equal to one, we can now start to use machine learning models to predict the player's rank."
   ]
  },
  {
   "cell_type": "markdown",
   "id": "86ea1c53",
   "metadata": {},
   "source": [
    "We have to predict the player's rank using the above given information, that means the target variable is 'LeagueIndex' which is ordinal in nature that means it has many more than two unique values. I am going to use SVM, Random Forest Classifier, and XGBoost machine learning models to predict the player's rank to compare the performance of all the models and find out the best model which gives us the best accuracy."
   ]
  },
  {
   "cell_type": "markdown",
   "id": "8a24b6c0",
   "metadata": {},
   "source": [
    "#### SUPPORT VECTOR MACHINE"
   ]
  },
  {
   "cell_type": "markdown",
   "id": "887e42a5",
   "metadata": {},
   "source": [
    "Support vector machines are initially used for binary classification, but with the use of 'One-vs-One' or 'One-vs-Rest' approaches, we can modify it for ordinal classification."
   ]
  },
  {
   "cell_type": "code",
   "execution_count": 19,
   "id": "e653468f",
   "metadata": {},
   "outputs": [],
   "source": [
    "# Importing necessary libraries\n",
    "\n",
    "from sklearn.svm import SVC\n",
    "from sklearn.model_selection import train_test_split\n",
    "from sklearn.metrics import accuracy_score"
   ]
  },
  {
   "cell_type": "code",
   "execution_count": 20,
   "id": "ff7f16c9",
   "metadata": {},
   "outputs": [],
   "source": [
    "# Splitting the model into x_train, x_test, y_train, and y_test\n",
    "\n",
    "x_train, x_test, y_train, y_test = train_test_split(scaled_player_df, y, test_size = 0.2, random_state = 42)"
   ]
  },
  {
   "cell_type": "code",
   "execution_count": 21,
   "id": "12d7dfa2",
   "metadata": {},
   "outputs": [
    {
     "name": "stdout",
     "output_type": "stream",
     "text": [
      "The shape of x_train, x_test is (2716, 14) (679, 14)\n"
     ]
    }
   ],
   "source": [
    "# Finding the shape of the above variables to check if the split had happened correctly\n",
    "\n",
    "print(\"The shape of x_train, x_test is\", x_train.shape, x_test.shape)"
   ]
  },
  {
   "cell_type": "code",
   "execution_count": 22,
   "id": "86520acc",
   "metadata": {},
   "outputs": [
    {
     "name": "stdout",
     "output_type": "stream",
     "text": [
      "The shape of y_train, y_test is (2716,) (679,)\n"
     ]
    }
   ],
   "source": [
    "print(\"The shape of y_train, y_test is\", y_train.shape, y_test.shape)"
   ]
  },
  {
   "cell_type": "code",
   "execution_count": 23,
   "id": "fe678fa9",
   "metadata": {},
   "outputs": [],
   "source": [
    "# The values are perfectly split after using train_test_split method\n",
    "\n",
    "svm_player_model = SVC(kernel = 'linear')"
   ]
  },
  {
   "cell_type": "code",
   "execution_count": 24,
   "id": "e19eba88",
   "metadata": {},
   "outputs": [
    {
     "data": {
      "text/html": [
       "<style>#sk-container-id-1 {color: black;background-color: white;}#sk-container-id-1 pre{padding: 0;}#sk-container-id-1 div.sk-toggleable {background-color: white;}#sk-container-id-1 label.sk-toggleable__label {cursor: pointer;display: block;width: 100%;margin-bottom: 0;padding: 0.3em;box-sizing: border-box;text-align: center;}#sk-container-id-1 label.sk-toggleable__label-arrow:before {content: \"▸\";float: left;margin-right: 0.25em;color: #696969;}#sk-container-id-1 label.sk-toggleable__label-arrow:hover:before {color: black;}#sk-container-id-1 div.sk-estimator:hover label.sk-toggleable__label-arrow:before {color: black;}#sk-container-id-1 div.sk-toggleable__content {max-height: 0;max-width: 0;overflow: hidden;text-align: left;background-color: #f0f8ff;}#sk-container-id-1 div.sk-toggleable__content pre {margin: 0.2em;color: black;border-radius: 0.25em;background-color: #f0f8ff;}#sk-container-id-1 input.sk-toggleable__control:checked~div.sk-toggleable__content {max-height: 200px;max-width: 100%;overflow: auto;}#sk-container-id-1 input.sk-toggleable__control:checked~label.sk-toggleable__label-arrow:before {content: \"▾\";}#sk-container-id-1 div.sk-estimator input.sk-toggleable__control:checked~label.sk-toggleable__label {background-color: #d4ebff;}#sk-container-id-1 div.sk-label input.sk-toggleable__control:checked~label.sk-toggleable__label {background-color: #d4ebff;}#sk-container-id-1 input.sk-hidden--visually {border: 0;clip: rect(1px 1px 1px 1px);clip: rect(1px, 1px, 1px, 1px);height: 1px;margin: -1px;overflow: hidden;padding: 0;position: absolute;width: 1px;}#sk-container-id-1 div.sk-estimator {font-family: monospace;background-color: #f0f8ff;border: 1px dotted black;border-radius: 0.25em;box-sizing: border-box;margin-bottom: 0.5em;}#sk-container-id-1 div.sk-estimator:hover {background-color: #d4ebff;}#sk-container-id-1 div.sk-parallel-item::after {content: \"\";width: 100%;border-bottom: 1px solid gray;flex-grow: 1;}#sk-container-id-1 div.sk-label:hover label.sk-toggleable__label {background-color: #d4ebff;}#sk-container-id-1 div.sk-serial::before {content: \"\";position: absolute;border-left: 1px solid gray;box-sizing: border-box;top: 0;bottom: 0;left: 50%;z-index: 0;}#sk-container-id-1 div.sk-serial {display: flex;flex-direction: column;align-items: center;background-color: white;padding-right: 0.2em;padding-left: 0.2em;position: relative;}#sk-container-id-1 div.sk-item {position: relative;z-index: 1;}#sk-container-id-1 div.sk-parallel {display: flex;align-items: stretch;justify-content: center;background-color: white;position: relative;}#sk-container-id-1 div.sk-item::before, #sk-container-id-1 div.sk-parallel-item::before {content: \"\";position: absolute;border-left: 1px solid gray;box-sizing: border-box;top: 0;bottom: 0;left: 50%;z-index: -1;}#sk-container-id-1 div.sk-parallel-item {display: flex;flex-direction: column;z-index: 1;position: relative;background-color: white;}#sk-container-id-1 div.sk-parallel-item:first-child::after {align-self: flex-end;width: 50%;}#sk-container-id-1 div.sk-parallel-item:last-child::after {align-self: flex-start;width: 50%;}#sk-container-id-1 div.sk-parallel-item:only-child::after {width: 0;}#sk-container-id-1 div.sk-dashed-wrapped {border: 1px dashed gray;margin: 0 0.4em 0.5em 0.4em;box-sizing: border-box;padding-bottom: 0.4em;background-color: white;}#sk-container-id-1 div.sk-label label {font-family: monospace;font-weight: bold;display: inline-block;line-height: 1.2em;}#sk-container-id-1 div.sk-label-container {text-align: center;}#sk-container-id-1 div.sk-container {/* jupyter's `normalize.less` sets `[hidden] { display: none; }` but bootstrap.min.css set `[hidden] { display: none !important; }` so we also need the `!important` here to be able to override the default hidden behavior on the sphinx rendered scikit-learn.org. See: https://github.com/scikit-learn/scikit-learn/issues/21755 */display: inline-block !important;position: relative;}#sk-container-id-1 div.sk-text-repr-fallback {display: none;}</style><div id=\"sk-container-id-1\" class=\"sk-top-container\"><div class=\"sk-text-repr-fallback\"><pre>SVC(kernel=&#x27;linear&#x27;)</pre><b>In a Jupyter environment, please rerun this cell to show the HTML representation or trust the notebook. <br />On GitHub, the HTML representation is unable to render, please try loading this page with nbviewer.org.</b></div><div class=\"sk-container\" hidden><div class=\"sk-item\"><div class=\"sk-estimator sk-toggleable\"><input class=\"sk-toggleable__control sk-hidden--visually\" id=\"sk-estimator-id-1\" type=\"checkbox\" checked><label for=\"sk-estimator-id-1\" class=\"sk-toggleable__label sk-toggleable__label-arrow\">SVC</label><div class=\"sk-toggleable__content\"><pre>SVC(kernel=&#x27;linear&#x27;)</pre></div></div></div></div></div>"
      ],
      "text/plain": [
       "SVC(kernel='linear')"
      ]
     },
     "execution_count": 24,
     "metadata": {},
     "output_type": "execute_result"
    }
   ],
   "source": [
    "svm_player_model.fit(x_train, y_train)"
   ]
  },
  {
   "cell_type": "code",
   "execution_count": 25,
   "id": "cff0bb06",
   "metadata": {},
   "outputs": [],
   "source": [
    "# Applying the svm_player_model to x_train object\n",
    "\n",
    "y_train_pred_svm = svm_player_model.predict(x_train)"
   ]
  },
  {
   "cell_type": "code",
   "execution_count": 26,
   "id": "cac83f91",
   "metadata": {},
   "outputs": [],
   "source": [
    "# Finding the training accuracy using above calculated 'y_train_pred_svm'\n",
    "\n",
    "svm_train_acc = accuracy_score(y_train_pred_svm, y_train)"
   ]
  },
  {
   "cell_type": "code",
   "execution_count": 27,
   "id": "c95a3c97",
   "metadata": {},
   "outputs": [
    {
     "name": "stdout",
     "output_type": "stream",
     "text": [
      "The training accuracy using SVM model is 41.49484536082475\n"
     ]
    }
   ],
   "source": [
    "print(\"The training accuracy using SVM model is\", svm_train_acc*100)"
   ]
  },
  {
   "cell_type": "markdown",
   "id": "2da2dcab",
   "metadata": {},
   "source": [
    "The training accuracy using the SVM model achieved was very less, we need to check for testing accuracy as well and see if the model is overfitting or if it might be underfitted."
   ]
  },
  {
   "cell_type": "code",
   "execution_count": 28,
   "id": "aa99158a",
   "metadata": {},
   "outputs": [],
   "source": [
    "# Applying the svm_player_model to x_test object\n",
    "\n",
    "y_test_pred_svm = svm_player_model.predict(x_test)"
   ]
  },
  {
   "cell_type": "code",
   "execution_count": 29,
   "id": "93349404",
   "metadata": {},
   "outputs": [],
   "source": [
    "# Finding the training accuracy using above calculated 'y_test_pred_svm'\n",
    "\n",
    "svm_test_acc = accuracy_score(y_test_pred_svm, y_test)"
   ]
  },
  {
   "cell_type": "code",
   "execution_count": 30,
   "id": "6fe9603d",
   "metadata": {},
   "outputs": [
    {
     "name": "stdout",
     "output_type": "stream",
     "text": [
      "The testing accuracy using SVM model is 37.26067746686304\n"
     ]
    }
   ],
   "source": [
    "print(\"The testing accuracy using SVM model is\", svm_test_acc*100)"
   ]
  },
  {
   "cell_type": "markdown",
   "id": "df80de65",
   "metadata": {},
   "source": [
    "The testing accuracy using the SVM model is less compared to the training accuracy, but is not significantly lower, so we can say that the model is neither overfitting nor underfitting. The model's accuracy is very less which suggests that the SVM model for the player dataset is not performing well. We can use the ensemble of decision trees which is the 'Random Forest' model to obtain the best accuracy."
   ]
  },
  {
   "cell_type": "markdown",
   "id": "5caed903",
   "metadata": {},
   "source": [
    "#### RANDOM FOREST CLASSIFIER"
   ]
  },
  {
   "cell_type": "code",
   "execution_count": 31,
   "id": "832f608f",
   "metadata": {},
   "outputs": [],
   "source": [
    "# Importing RandomForestClassifier model\n",
    "from sklearn.ensemble import RandomForestClassifier\n",
    "\n",
    "random_forest_player_model = RandomForestClassifier(n_estimators = 25, random_state = 42)"
   ]
  },
  {
   "cell_type": "code",
   "execution_count": 32,
   "id": "6b15212d",
   "metadata": {},
   "outputs": [
    {
     "data": {
      "text/html": [
       "<style>#sk-container-id-2 {color: black;background-color: white;}#sk-container-id-2 pre{padding: 0;}#sk-container-id-2 div.sk-toggleable {background-color: white;}#sk-container-id-2 label.sk-toggleable__label {cursor: pointer;display: block;width: 100%;margin-bottom: 0;padding: 0.3em;box-sizing: border-box;text-align: center;}#sk-container-id-2 label.sk-toggleable__label-arrow:before {content: \"▸\";float: left;margin-right: 0.25em;color: #696969;}#sk-container-id-2 label.sk-toggleable__label-arrow:hover:before {color: black;}#sk-container-id-2 div.sk-estimator:hover label.sk-toggleable__label-arrow:before {color: black;}#sk-container-id-2 div.sk-toggleable__content {max-height: 0;max-width: 0;overflow: hidden;text-align: left;background-color: #f0f8ff;}#sk-container-id-2 div.sk-toggleable__content pre {margin: 0.2em;color: black;border-radius: 0.25em;background-color: #f0f8ff;}#sk-container-id-2 input.sk-toggleable__control:checked~div.sk-toggleable__content {max-height: 200px;max-width: 100%;overflow: auto;}#sk-container-id-2 input.sk-toggleable__control:checked~label.sk-toggleable__label-arrow:before {content: \"▾\";}#sk-container-id-2 div.sk-estimator input.sk-toggleable__control:checked~label.sk-toggleable__label {background-color: #d4ebff;}#sk-container-id-2 div.sk-label input.sk-toggleable__control:checked~label.sk-toggleable__label {background-color: #d4ebff;}#sk-container-id-2 input.sk-hidden--visually {border: 0;clip: rect(1px 1px 1px 1px);clip: rect(1px, 1px, 1px, 1px);height: 1px;margin: -1px;overflow: hidden;padding: 0;position: absolute;width: 1px;}#sk-container-id-2 div.sk-estimator {font-family: monospace;background-color: #f0f8ff;border: 1px dotted black;border-radius: 0.25em;box-sizing: border-box;margin-bottom: 0.5em;}#sk-container-id-2 div.sk-estimator:hover {background-color: #d4ebff;}#sk-container-id-2 div.sk-parallel-item::after {content: \"\";width: 100%;border-bottom: 1px solid gray;flex-grow: 1;}#sk-container-id-2 div.sk-label:hover label.sk-toggleable__label {background-color: #d4ebff;}#sk-container-id-2 div.sk-serial::before {content: \"\";position: absolute;border-left: 1px solid gray;box-sizing: border-box;top: 0;bottom: 0;left: 50%;z-index: 0;}#sk-container-id-2 div.sk-serial {display: flex;flex-direction: column;align-items: center;background-color: white;padding-right: 0.2em;padding-left: 0.2em;position: relative;}#sk-container-id-2 div.sk-item {position: relative;z-index: 1;}#sk-container-id-2 div.sk-parallel {display: flex;align-items: stretch;justify-content: center;background-color: white;position: relative;}#sk-container-id-2 div.sk-item::before, #sk-container-id-2 div.sk-parallel-item::before {content: \"\";position: absolute;border-left: 1px solid gray;box-sizing: border-box;top: 0;bottom: 0;left: 50%;z-index: -1;}#sk-container-id-2 div.sk-parallel-item {display: flex;flex-direction: column;z-index: 1;position: relative;background-color: white;}#sk-container-id-2 div.sk-parallel-item:first-child::after {align-self: flex-end;width: 50%;}#sk-container-id-2 div.sk-parallel-item:last-child::after {align-self: flex-start;width: 50%;}#sk-container-id-2 div.sk-parallel-item:only-child::after {width: 0;}#sk-container-id-2 div.sk-dashed-wrapped {border: 1px dashed gray;margin: 0 0.4em 0.5em 0.4em;box-sizing: border-box;padding-bottom: 0.4em;background-color: white;}#sk-container-id-2 div.sk-label label {font-family: monospace;font-weight: bold;display: inline-block;line-height: 1.2em;}#sk-container-id-2 div.sk-label-container {text-align: center;}#sk-container-id-2 div.sk-container {/* jupyter's `normalize.less` sets `[hidden] { display: none; }` but bootstrap.min.css set `[hidden] { display: none !important; }` so we also need the `!important` here to be able to override the default hidden behavior on the sphinx rendered scikit-learn.org. See: https://github.com/scikit-learn/scikit-learn/issues/21755 */display: inline-block !important;position: relative;}#sk-container-id-2 div.sk-text-repr-fallback {display: none;}</style><div id=\"sk-container-id-2\" class=\"sk-top-container\"><div class=\"sk-text-repr-fallback\"><pre>RandomForestClassifier(n_estimators=25, random_state=42)</pre><b>In a Jupyter environment, please rerun this cell to show the HTML representation or trust the notebook. <br />On GitHub, the HTML representation is unable to render, please try loading this page with nbviewer.org.</b></div><div class=\"sk-container\" hidden><div class=\"sk-item\"><div class=\"sk-estimator sk-toggleable\"><input class=\"sk-toggleable__control sk-hidden--visually\" id=\"sk-estimator-id-2\" type=\"checkbox\" checked><label for=\"sk-estimator-id-2\" class=\"sk-toggleable__label sk-toggleable__label-arrow\">RandomForestClassifier</label><div class=\"sk-toggleable__content\"><pre>RandomForestClassifier(n_estimators=25, random_state=42)</pre></div></div></div></div></div>"
      ],
      "text/plain": [
       "RandomForestClassifier(n_estimators=25, random_state=42)"
      ]
     },
     "execution_count": 32,
     "metadata": {},
     "output_type": "execute_result"
    }
   ],
   "source": [
    "random_forest_player_model.fit(x_train, y_train)"
   ]
  },
  {
   "cell_type": "code",
   "execution_count": 33,
   "id": "eb838d3b",
   "metadata": {},
   "outputs": [],
   "source": [
    "# Plotting one of the decision trees\n",
    "import matplotlib.pyplot as plt\n",
    "from sklearn import tree\n",
    "\n",
    "# Choose an individual decision tree from the Random Forest\n",
    "tree_index = 1\n",
    "tree_model = random_forest_player_model.estimators_[tree_index]"
   ]
  },
  {
   "cell_type": "code",
   "execution_count": 34,
   "id": "507564ff",
   "metadata": {},
   "outputs": [
    {
     "data": {
      "image/png": "[encoded data removed]",
      "text/plain": [
       "<Figure size 1000x1000 with 1 Axes>"
      ]
     },
     "metadata": {},
     "output_type": "display_data"
    }
   ],
   "source": [
    "# Plot the decision tree\n",
    "plt.figure(figsize=(10, 10))\n",
    "tree.plot_tree(tree_model, filled = True, feature_names = scaled_player_df.columns, class_names = str(y))\n",
    "plt.show()"
   ]
  },
  {
   "cell_type": "markdown",
   "id": "878b1b1d",
   "metadata": {},
   "source": [
    "The above plot of one decision tree shows many nodes, the plot is very very large to interpret the results, let us proceed to find out the accuracy."
   ]
  },
  {
   "cell_type": "code",
   "execution_count": 35,
   "id": "90d5e7aa",
   "metadata": {},
   "outputs": [],
   "source": [
    "# Applying the random_forest_player_model to x_train object\n",
    "\n",
    "y_train_pred_rf = random_forest_player_model.predict(x_train)"
   ]
  },
  {
   "cell_type": "code",
   "execution_count": 36,
   "id": "0aa9b5e8",
   "metadata": {},
   "outputs": [],
   "source": [
    "# Finding the training accuracy using above calculated 'y_train_pred_rf'\n",
    "\n",
    "rf_train_acc = accuracy_score(y_train_pred_rf, y_train)"
   ]
  },
  {
   "cell_type": "code",
   "execution_count": 37,
   "id": "ed463929",
   "metadata": {},
   "outputs": [
    {
     "name": "stdout",
     "output_type": "stream",
     "text": [
      "The training accuracy using the random forest classifier is 99.96318114874816\n"
     ]
    }
   ],
   "source": [
    "print(\"The training accuracy using the random forest classifier is\", rf_train_acc*100)"
   ]
  },
  {
   "cell_type": "code",
   "execution_count": 38,
   "id": "208aaa72",
   "metadata": {},
   "outputs": [],
   "source": [
    "# Applying the random_forest_player_model to x_test object\n",
    "\n",
    "y_test_pred_rf = random_forest_player_model.predict(x_test)"
   ]
  },
  {
   "cell_type": "code",
   "execution_count": 39,
   "id": "78bf7659",
   "metadata": {},
   "outputs": [],
   "source": [
    "# Finding the testing accuracy using above calculated 'y_test_pred_rf'\n",
    "\n",
    "rf_test_acc = accuracy_score(y_test_pred_rf, y_test)"
   ]
  },
  {
   "cell_type": "code",
   "execution_count": 40,
   "id": "0ce448f2",
   "metadata": {},
   "outputs": [
    {
     "name": "stdout",
     "output_type": "stream",
     "text": [
      "The testing accuracy using the random forest classifier is 36.37702503681885\n"
     ]
    }
   ],
   "source": [
    "print(\"The testing accuracy using the random forest classifier is\", rf_test_acc*100)"
   ]
  },
  {
   "cell_type": "markdown",
   "id": "9f44d373",
   "metadata": {},
   "source": [
    "Clearly we can observe that the model had overfitted as the training accuracy is significantly more than the testing accuracy. The training accuracy equal to 99.9% says that the model has been trained near to perfection whereas the testing accuracy equal to 36.3% says that the model is unable to predict the ranks properly for testing."
   ]
  },
  {
   "cell_type": "markdown",
   "id": "11acdea4",
   "metadata": {},
   "source": [
    "To avoid this overfitting issue, we can modify the hyperparameters in the model, and check for any improvements."
   ]
  },
  {
   "cell_type": "code",
   "execution_count": 41,
   "id": "852be389",
   "metadata": {},
   "outputs": [],
   "source": [
    "# Increasing the estimators\n",
    "\n",
    "random_forest_player_model1 = RandomForestClassifier(n_estimators = 100, random_state = 42)"
   ]
  },
  {
   "cell_type": "code",
   "execution_count": 42,
   "id": "48c70bce",
   "metadata": {},
   "outputs": [
    {
     "data": {
      "text/html": [
       "<style>#sk-container-id-3 {color: black;background-color: white;}#sk-container-id-3 pre{padding: 0;}#sk-container-id-3 div.sk-toggleable {background-color: white;}#sk-container-id-3 label.sk-toggleable__label {cursor: pointer;display: block;width: 100%;margin-bottom: 0;padding: 0.3em;box-sizing: border-box;text-align: center;}#sk-container-id-3 label.sk-toggleable__label-arrow:before {content: \"▸\";float: left;margin-right: 0.25em;color: #696969;}#sk-container-id-3 label.sk-toggleable__label-arrow:hover:before {color: black;}#sk-container-id-3 div.sk-estimator:hover label.sk-toggleable__label-arrow:before {color: black;}#sk-container-id-3 div.sk-toggleable__content {max-height: 0;max-width: 0;overflow: hidden;text-align: left;background-color: #f0f8ff;}#sk-container-id-3 div.sk-toggleable__content pre {margin: 0.2em;color: black;border-radius: 0.25em;background-color: #f0f8ff;}#sk-container-id-3 input.sk-toggleable__control:checked~div.sk-toggleable__content {max-height: 200px;max-width: 100%;overflow: auto;}#sk-container-id-3 input.sk-toggleable__control:checked~label.sk-toggleable__label-arrow:before {content: \"▾\";}#sk-container-id-3 div.sk-estimator input.sk-toggleable__control:checked~label.sk-toggleable__label {background-color: #d4ebff;}#sk-container-id-3 div.sk-label input.sk-toggleable__control:checked~label.sk-toggleable__label {background-color: #d4ebff;}#sk-container-id-3 input.sk-hidden--visually {border: 0;clip: rect(1px 1px 1px 1px);clip: rect(1px, 1px, 1px, 1px);height: 1px;margin: -1px;overflow: hidden;padding: 0;position: absolute;width: 1px;}#sk-container-id-3 div.sk-estimator {font-family: monospace;background-color: #f0f8ff;border: 1px dotted black;border-radius: 0.25em;box-sizing: border-box;margin-bottom: 0.5em;}#sk-container-id-3 div.sk-estimator:hover {background-color: #d4ebff;}#sk-container-id-3 div.sk-parallel-item::after {content: \"\";width: 100%;border-bottom: 1px solid gray;flex-grow: 1;}#sk-container-id-3 div.sk-label:hover label.sk-toggleable__label {background-color: #d4ebff;}#sk-container-id-3 div.sk-serial::before {content: \"\";position: absolute;border-left: 1px solid gray;box-sizing: border-box;top: 0;bottom: 0;left: 50%;z-index: 0;}#sk-container-id-3 div.sk-serial {display: flex;flex-direction: column;align-items: center;background-color: white;padding-right: 0.2em;padding-left: 0.2em;position: relative;}#sk-container-id-3 div.sk-item {position: relative;z-index: 1;}#sk-container-id-3 div.sk-parallel {display: flex;align-items: stretch;justify-content: center;background-color: white;position: relative;}#sk-container-id-3 div.sk-item::before, #sk-container-id-3 div.sk-parallel-item::before {content: \"\";position: absolute;border-left: 1px solid gray;box-sizing: border-box;top: 0;bottom: 0;left: 50%;z-index: -1;}#sk-container-id-3 div.sk-parallel-item {display: flex;flex-direction: column;z-index: 1;position: relative;background-color: white;}#sk-container-id-3 div.sk-parallel-item:first-child::after {align-self: flex-end;width: 50%;}#sk-container-id-3 div.sk-parallel-item:last-child::after {align-self: flex-start;width: 50%;}#sk-container-id-3 div.sk-parallel-item:only-child::after {width: 0;}#sk-container-id-3 div.sk-dashed-wrapped {border: 1px dashed gray;margin: 0 0.4em 0.5em 0.4em;box-sizing: border-box;padding-bottom: 0.4em;background-color: white;}#sk-container-id-3 div.sk-label label {font-family: monospace;font-weight: bold;display: inline-block;line-height: 1.2em;}#sk-container-id-3 div.sk-label-container {text-align: center;}#sk-container-id-3 div.sk-container {/* jupyter's `normalize.less` sets `[hidden] { display: none; }` but bootstrap.min.css set `[hidden] { display: none !important; }` so we also need the `!important` here to be able to override the default hidden behavior on the sphinx rendered scikit-learn.org. See: https://github.com/scikit-learn/scikit-learn/issues/21755 */display: inline-block !important;position: relative;}#sk-container-id-3 div.sk-text-repr-fallback {display: none;}</style><div id=\"sk-container-id-3\" class=\"sk-top-container\"><div class=\"sk-text-repr-fallback\"><pre>RandomForestClassifier(random_state=42)</pre><b>In a Jupyter environment, please rerun this cell to show the HTML representation or trust the notebook. <br />On GitHub, the HTML representation is unable to render, please try loading this page with nbviewer.org.</b></div><div class=\"sk-container\" hidden><div class=\"sk-item\"><div class=\"sk-estimator sk-toggleable\"><input class=\"sk-toggleable__control sk-hidden--visually\" id=\"sk-estimator-id-3\" type=\"checkbox\" checked><label for=\"sk-estimator-id-3\" class=\"sk-toggleable__label sk-toggleable__label-arrow\">RandomForestClassifier</label><div class=\"sk-toggleable__content\"><pre>RandomForestClassifier(random_state=42)</pre></div></div></div></div></div>"
      ],
      "text/plain": [
       "RandomForestClassifier(random_state=42)"
      ]
     },
     "execution_count": 42,
     "metadata": {},
     "output_type": "execute_result"
    }
   ],
   "source": [
    "random_forest_player_model1.fit(x_train, y_train)"
   ]
  },
  {
   "cell_type": "code",
   "execution_count": 43,
   "id": "0b4a0d3c",
   "metadata": {},
   "outputs": [
    {
     "name": "stdout",
     "output_type": "stream",
     "text": [
      "The training accuracy using the random forest classifier after increasing the number of estimators is 100.0\n"
     ]
    }
   ],
   "source": [
    "# Applying the random_forest_player_model1 to x_train object\n",
    "\n",
    "y_train_pred_rf1 = random_forest_player_model1.predict(x_train)\n",
    "rf_train_acc1 = accuracy_score(y_train_pred_rf1, y_train)\n",
    "print(\"The training accuracy using the random forest classifier after increasing the number of estimators is\", rf_train_acc1*100)"
   ]
  },
  {
   "cell_type": "code",
   "execution_count": 44,
   "id": "c5d0d6ed",
   "metadata": {},
   "outputs": [
    {
     "name": "stdout",
     "output_type": "stream",
     "text": [
      "The testing accuracy using the random forest classifier after increasing the number of estimators is 36.37702503681885\n"
     ]
    }
   ],
   "source": [
    "# Applying the random_forest_player_model1 to x_test object\n",
    "\n",
    "y_test_pred_rf1 = random_forest_player_model1.predict(x_test)\n",
    "rf_test_acc1 = accuracy_score(y_test_pred_rf1, y_test)\n",
    "print(\"The testing accuracy using the random forest classifier after increasing the number of estimators is\", rf_test_acc1*100)"
   ]
  },
  {
   "cell_type": "markdown",
   "id": "895a12a1",
   "metadata": {},
   "source": [
    "Even after increasing the number of estimators, the model is still overfitting, we can try to reduce the depth of the trees so that the trees are forced to be less complex."
   ]
  },
  {
   "cell_type": "code",
   "execution_count": 45,
   "id": "b1e5df74",
   "metadata": {},
   "outputs": [],
   "source": [
    "# Setting the maximum depth parameter\n",
    "\n",
    "random_forest_player_model2 = RandomForestClassifier(n_estimators = 100, random_state = 42, max_depth = 3)"
   ]
  },
  {
   "cell_type": "code",
   "execution_count": 46,
   "id": "1b8d6427",
   "metadata": {},
   "outputs": [
    {
     "data": {
      "text/html": [
       "<style>#sk-container-id-4 {color: black;background-color: white;}#sk-container-id-4 pre{padding: 0;}#sk-container-id-4 div.sk-toggleable {background-color: white;}#sk-container-id-4 label.sk-toggleable__label {cursor: pointer;display: block;width: 100%;margin-bottom: 0;padding: 0.3em;box-sizing: border-box;text-align: center;}#sk-container-id-4 label.sk-toggleable__label-arrow:before {content: \"▸\";float: left;margin-right: 0.25em;color: #696969;}#sk-container-id-4 label.sk-toggleable__label-arrow:hover:before {color: black;}#sk-container-id-4 div.sk-estimator:hover label.sk-toggleable__label-arrow:before {color: black;}#sk-container-id-4 div.sk-toggleable__content {max-height: 0;max-width: 0;overflow: hidden;text-align: left;background-color: #f0f8ff;}#sk-container-id-4 div.sk-toggleable__content pre {margin: 0.2em;color: black;border-radius: 0.25em;background-color: #f0f8ff;}#sk-container-id-4 input.sk-toggleable__control:checked~div.sk-toggleable__content {max-height: 200px;max-width: 100%;overflow: auto;}#sk-container-id-4 input.sk-toggleable__control:checked~label.sk-toggleable__label-arrow:before {content: \"▾\";}#sk-container-id-4 div.sk-estimator input.sk-toggleable__control:checked~label.sk-toggleable__label {background-color: #d4ebff;}#sk-container-id-4 div.sk-label input.sk-toggleable__control:checked~label.sk-toggleable__label {background-color: #d4ebff;}#sk-container-id-4 input.sk-hidden--visually {border: 0;clip: rect(1px 1px 1px 1px);clip: rect(1px, 1px, 1px, 1px);height: 1px;margin: -1px;overflow: hidden;padding: 0;position: absolute;width: 1px;}#sk-container-id-4 div.sk-estimator {font-family: monospace;background-color: #f0f8ff;border: 1px dotted black;border-radius: 0.25em;box-sizing: border-box;margin-bottom: 0.5em;}#sk-container-id-4 div.sk-estimator:hover {background-color: #d4ebff;}#sk-container-id-4 div.sk-parallel-item::after {content: \"\";width: 100%;border-bottom: 1px solid gray;flex-grow: 1;}#sk-container-id-4 div.sk-label:hover label.sk-toggleable__label {background-color: #d4ebff;}#sk-container-id-4 div.sk-serial::before {content: \"\";position: absolute;border-left: 1px solid gray;box-sizing: border-box;top: 0;bottom: 0;left: 50%;z-index: 0;}#sk-container-id-4 div.sk-serial {display: flex;flex-direction: column;align-items: center;background-color: white;padding-right: 0.2em;padding-left: 0.2em;position: relative;}#sk-container-id-4 div.sk-item {position: relative;z-index: 1;}#sk-container-id-4 div.sk-parallel {display: flex;align-items: stretch;justify-content: center;background-color: white;position: relative;}#sk-container-id-4 div.sk-item::before, #sk-container-id-4 div.sk-parallel-item::before {content: \"\";position: absolute;border-left: 1px solid gray;box-sizing: border-box;top: 0;bottom: 0;left: 50%;z-index: -1;}#sk-container-id-4 div.sk-parallel-item {display: flex;flex-direction: column;z-index: 1;position: relative;background-color: white;}#sk-container-id-4 div.sk-parallel-item:first-child::after {align-self: flex-end;width: 50%;}#sk-container-id-4 div.sk-parallel-item:last-child::after {align-self: flex-start;width: 50%;}#sk-container-id-4 div.sk-parallel-item:only-child::after {width: 0;}#sk-container-id-4 div.sk-dashed-wrapped {border: 1px dashed gray;margin: 0 0.4em 0.5em 0.4em;box-sizing: border-box;padding-bottom: 0.4em;background-color: white;}#sk-container-id-4 div.sk-label label {font-family: monospace;font-weight: bold;display: inline-block;line-height: 1.2em;}#sk-container-id-4 div.sk-label-container {text-align: center;}#sk-container-id-4 div.sk-container {/* jupyter's `normalize.less` sets `[hidden] { display: none; }` but bootstrap.min.css set `[hidden] { display: none !important; }` so we also need the `!important` here to be able to override the default hidden behavior on the sphinx rendered scikit-learn.org. See: https://github.com/scikit-learn/scikit-learn/issues/21755 */display: inline-block !important;position: relative;}#sk-container-id-4 div.sk-text-repr-fallback {display: none;}</style><div id=\"sk-container-id-4\" class=\"sk-top-container\"><div class=\"sk-text-repr-fallback\"><pre>RandomForestClassifier(max_depth=3, random_state=42)</pre><b>In a Jupyter environment, please rerun this cell to show the HTML representation or trust the notebook. <br />On GitHub, the HTML representation is unable to render, please try loading this page with nbviewer.org.</b></div><div class=\"sk-container\" hidden><div class=\"sk-item\"><div class=\"sk-estimator sk-toggleable\"><input class=\"sk-toggleable__control sk-hidden--visually\" id=\"sk-estimator-id-4\" type=\"checkbox\" checked><label for=\"sk-estimator-id-4\" class=\"sk-toggleable__label sk-toggleable__label-arrow\">RandomForestClassifier</label><div class=\"sk-toggleable__content\"><pre>RandomForestClassifier(max_depth=3, random_state=42)</pre></div></div></div></div></div>"
      ],
      "text/plain": [
       "RandomForestClassifier(max_depth=3, random_state=42)"
      ]
     },
     "execution_count": 46,
     "metadata": {},
     "output_type": "execute_result"
    }
   ],
   "source": [
    "random_forest_player_model2.fit(x_train, y_train)"
   ]
  },
  {
   "cell_type": "code",
   "execution_count": 47,
   "id": "c00ecf55",
   "metadata": {},
   "outputs": [
    {
     "name": "stdout",
     "output_type": "stream",
     "text": [
      "The training accuracy using the random forest classifier after setting the maximum depth equal to 10 is 40.758468335787924\n"
     ]
    }
   ],
   "source": [
    "# Applying the random_forest_player_model2 to x_train object\n",
    "\n",
    "y_train_pred_rf2 = random_forest_player_model2.predict(x_train)\n",
    "rf_train_acc2 = accuracy_score(y_train_pred_rf2, y_train)\n",
    "print(\"The training accuracy using the random forest classifier after setting the maximum depth equal to 10 is\", rf_train_acc2*100)"
   ]
  },
  {
   "cell_type": "code",
   "execution_count": 48,
   "id": "fa6a87a9",
   "metadata": {},
   "outputs": [
    {
     "name": "stdout",
     "output_type": "stream",
     "text": [
      "The testing accuracy using the random forest classifier after setting the maximum depth equal to 10 is 34.90427098674521\n"
     ]
    }
   ],
   "source": [
    "# Applying the random_forest_player_model2 to x_test object\n",
    "\n",
    "y_test_pred_rf2 = random_forest_player_model2.predict(x_test)\n",
    "rf_test_acc2 = accuracy_score(y_test_pred_rf2, y_test)\n",
    "print(\"The testing accuracy using the random forest classifier after setting the maximum depth equal to 10 is\", rf_test_acc2*100)"
   ]
  },
  {
   "cell_type": "markdown",
   "id": "c0e249ab",
   "metadata": {},
   "source": [
    "The model is not significantly improving after setting the maximum depth, we can try to remove any of the features we think might not provide best results for prediction."
   ]
  },
  {
   "cell_type": "code",
   "execution_count": 49,
   "id": "8e06a93f",
   "metadata": {},
   "outputs": [
    {
     "data": {
      "text/html": [
       "<div>\n",
       "<style scoped>\n",
       "    .dataframe tbody tr th:only-of-type {\n",
       "        vertical-align: middle;\n",
       "    }\n",
       "\n",
       "    .dataframe tbody tr th {\n",
       "        vertical-align: top;\n",
       "    }\n",
       "\n",
       "    .dataframe thead th {\n",
       "        text-align: right;\n",
       "    }\n",
       "</style>\n",
       "<table border=\"1\" class=\"dataframe\">\n",
       "  <thead>\n",
       "    <tr style=\"text-align: right;\">\n",
       "      <th></th>\n",
       "      <th>APM</th>\n",
       "      <th>SelectByHotkeys</th>\n",
       "      <th>AssignToHotkeys</th>\n",
       "      <th>UniqueHotkeys</th>\n",
       "      <th>MinimapAttacks</th>\n",
       "      <th>MinimapRightClicks</th>\n",
       "      <th>NumberOfPACs</th>\n",
       "      <th>GapBetweenPACs</th>\n",
       "      <th>ActionLatency</th>\n",
       "      <th>ActionsInPAC</th>\n",
       "      <th>TotalMapExplored</th>\n",
       "      <th>WorkersMade</th>\n",
       "      <th>UniqueUnitsMade</th>\n",
       "      <th>ComplexUnitsMade</th>\n",
       "    </tr>\n",
       "  </thead>\n",
       "  <tbody>\n",
       "    <tr>\n",
       "      <th>APM</th>\n",
       "      <td>1.000000</td>\n",
       "      <td>0.840693</td>\n",
       "      <td>0.578416</td>\n",
       "      <td>0.361704</td>\n",
       "      <td>0.271021</td>\n",
       "      <td>0.322179</td>\n",
       "      <td>0.651237</td>\n",
       "      <td>-0.575275</td>\n",
       "      <td>-0.722402</td>\n",
       "      <td>0.383985</td>\n",
       "      <td>0.220749</td>\n",
       "      <td>0.349692</td>\n",
       "      <td>0.100844</td>\n",
       "      <td>0.136143</td>\n",
       "    </tr>\n",
       "    <tr>\n",
       "      <th>SelectByHotkeys</th>\n",
       "      <td>0.840693</td>\n",
       "      <td>1.000000</td>\n",
       "      <td>0.504526</td>\n",
       "      <td>0.302096</td>\n",
       "      <td>0.197158</td>\n",
       "      <td>0.143368</td>\n",
       "      <td>0.398505</td>\n",
       "      <td>-0.304290</td>\n",
       "      <td>-0.415388</td>\n",
       "      <td>0.163282</td>\n",
       "      <td>0.083481</td>\n",
       "      <td>0.141723</td>\n",
       "      <td>0.006121</td>\n",
       "      <td>0.044002</td>\n",
       "    </tr>\n",
       "    <tr>\n",
       "      <th>AssignToHotkeys</th>\n",
       "      <td>0.578416</td>\n",
       "      <td>0.504526</td>\n",
       "      <td>1.000000</td>\n",
       "      <td>0.420242</td>\n",
       "      <td>0.242196</td>\n",
       "      <td>0.193043</td>\n",
       "      <td>0.486729</td>\n",
       "      <td>-0.396891</td>\n",
       "      <td>-0.482191</td>\n",
       "      <td>0.093668</td>\n",
       "      <td>0.192928</td>\n",
       "      <td>0.183065</td>\n",
       "      <td>0.132829</td>\n",
       "      <td>0.144603</td>\n",
       "    </tr>\n",
       "    <tr>\n",
       "      <th>UniqueHotkeys</th>\n",
       "      <td>0.361704</td>\n",
       "      <td>0.302096</td>\n",
       "      <td>0.420242</td>\n",
       "      <td>1.000000</td>\n",
       "      <td>0.180592</td>\n",
       "      <td>0.141576</td>\n",
       "      <td>0.372079</td>\n",
       "      <td>-0.242815</td>\n",
       "      <td>-0.323103</td>\n",
       "      <td>-0.016400</td>\n",
       "      <td>0.264650</td>\n",
       "      <td>0.108141</td>\n",
       "      <td>0.225030</td>\n",
       "      <td>0.110363</td>\n",
       "    </tr>\n",
       "    <tr>\n",
       "      <th>MinimapAttacks</th>\n",
       "      <td>0.271021</td>\n",
       "      <td>0.197158</td>\n",
       "      <td>0.242196</td>\n",
       "      <td>0.180592</td>\n",
       "      <td>1.000000</td>\n",
       "      <td>0.242269</td>\n",
       "      <td>0.177343</td>\n",
       "      <td>-0.237633</td>\n",
       "      <td>-0.199904</td>\n",
       "      <td>0.134804</td>\n",
       "      <td>0.166392</td>\n",
       "      <td>0.077624</td>\n",
       "      <td>0.120824</td>\n",
       "      <td>0.040239</td>\n",
       "    </tr>\n",
       "    <tr>\n",
       "      <th>MinimapRightClicks</th>\n",
       "      <td>0.322179</td>\n",
       "      <td>0.143368</td>\n",
       "      <td>0.193043</td>\n",
       "      <td>0.141576</td>\n",
       "      <td>0.242269</td>\n",
       "      <td>1.000000</td>\n",
       "      <td>0.176137</td>\n",
       "      <td>-0.254466</td>\n",
       "      <td>-0.230660</td>\n",
       "      <td>0.307512</td>\n",
       "      <td>0.172592</td>\n",
       "      <td>0.206594</td>\n",
       "      <td>0.148699</td>\n",
       "      <td>0.091604</td>\n",
       "    </tr>\n",
       "    <tr>\n",
       "      <th>NumberOfPACs</th>\n",
       "      <td>0.651237</td>\n",
       "      <td>0.398505</td>\n",
       "      <td>0.486729</td>\n",
       "      <td>0.372079</td>\n",
       "      <td>0.177343</td>\n",
       "      <td>0.176137</td>\n",
       "      <td>1.000000</td>\n",
       "      <td>-0.506261</td>\n",
       "      <td>-0.820334</td>\n",
       "      <td>-0.232018</td>\n",
       "      <td>0.460275</td>\n",
       "      <td>0.277891</td>\n",
       "      <td>0.306295</td>\n",
       "      <td>0.181484</td>\n",
       "    </tr>\n",
       "    <tr>\n",
       "      <th>GapBetweenPACs</th>\n",
       "      <td>-0.575275</td>\n",
       "      <td>-0.304290</td>\n",
       "      <td>-0.396891</td>\n",
       "      <td>-0.242815</td>\n",
       "      <td>-0.237633</td>\n",
       "      <td>-0.254466</td>\n",
       "      <td>-0.506261</td>\n",
       "      <td>1.000000</td>\n",
       "      <td>0.689402</td>\n",
       "      <td>-0.311072</td>\n",
       "      <td>-0.095330</td>\n",
       "      <td>-0.235419</td>\n",
       "      <td>-0.084855</td>\n",
       "      <td>-0.074659</td>\n",
       "    </tr>\n",
       "    <tr>\n",
       "      <th>ActionLatency</th>\n",
       "      <td>-0.722402</td>\n",
       "      <td>-0.415388</td>\n",
       "      <td>-0.482191</td>\n",
       "      <td>-0.323103</td>\n",
       "      <td>-0.199904</td>\n",
       "      <td>-0.230660</td>\n",
       "      <td>-0.820334</td>\n",
       "      <td>0.689402</td>\n",
       "      <td>1.000000</td>\n",
       "      <td>-0.110224</td>\n",
       "      <td>-0.343314</td>\n",
       "      <td>-0.309175</td>\n",
       "      <td>-0.212610</td>\n",
       "      <td>-0.186407</td>\n",
       "    </tr>\n",
       "    <tr>\n",
       "      <th>ActionsInPAC</th>\n",
       "      <td>0.383985</td>\n",
       "      <td>0.163282</td>\n",
       "      <td>0.093668</td>\n",
       "      <td>-0.016400</td>\n",
       "      <td>0.134804</td>\n",
       "      <td>0.307512</td>\n",
       "      <td>-0.232018</td>\n",
       "      <td>-0.311072</td>\n",
       "      <td>-0.110224</td>\n",
       "      <td>1.000000</td>\n",
       "      <td>-0.157215</td>\n",
       "      <td>0.251795</td>\n",
       "      <td>-0.133697</td>\n",
       "      <td>0.052725</td>\n",
       "    </tr>\n",
       "    <tr>\n",
       "      <th>TotalMapExplored</th>\n",
       "      <td>0.220749</td>\n",
       "      <td>0.083481</td>\n",
       "      <td>0.192928</td>\n",
       "      <td>0.264650</td>\n",
       "      <td>0.166392</td>\n",
       "      <td>0.172592</td>\n",
       "      <td>0.460275</td>\n",
       "      <td>-0.095330</td>\n",
       "      <td>-0.343314</td>\n",
       "      <td>-0.157215</td>\n",
       "      <td>1.000000</td>\n",
       "      <td>0.131507</td>\n",
       "      <td>0.572768</td>\n",
       "      <td>0.307762</td>\n",
       "    </tr>\n",
       "    <tr>\n",
       "      <th>WorkersMade</th>\n",
       "      <td>0.349692</td>\n",
       "      <td>0.141723</td>\n",
       "      <td>0.183065</td>\n",
       "      <td>0.108141</td>\n",
       "      <td>0.077624</td>\n",
       "      <td>0.206594</td>\n",
       "      <td>0.277891</td>\n",
       "      <td>-0.235419</td>\n",
       "      <td>-0.309175</td>\n",
       "      <td>0.251795</td>\n",
       "      <td>0.131507</td>\n",
       "      <td>1.000000</td>\n",
       "      <td>0.113504</td>\n",
       "      <td>0.203637</td>\n",
       "    </tr>\n",
       "    <tr>\n",
       "      <th>UniqueUnitsMade</th>\n",
       "      <td>0.100844</td>\n",
       "      <td>0.006121</td>\n",
       "      <td>0.132829</td>\n",
       "      <td>0.225030</td>\n",
       "      <td>0.120824</td>\n",
       "      <td>0.148699</td>\n",
       "      <td>0.306295</td>\n",
       "      <td>-0.084855</td>\n",
       "      <td>-0.212610</td>\n",
       "      <td>-0.133697</td>\n",
       "      <td>0.572768</td>\n",
       "      <td>0.113504</td>\n",
       "      <td>1.000000</td>\n",
       "      <td>0.381497</td>\n",
       "    </tr>\n",
       "    <tr>\n",
       "      <th>ComplexUnitsMade</th>\n",
       "      <td>0.136143</td>\n",
       "      <td>0.044002</td>\n",
       "      <td>0.144603</td>\n",
       "      <td>0.110363</td>\n",
       "      <td>0.040239</td>\n",
       "      <td>0.091604</td>\n",
       "      <td>0.181484</td>\n",
       "      <td>-0.074659</td>\n",
       "      <td>-0.186407</td>\n",
       "      <td>0.052725</td>\n",
       "      <td>0.307762</td>\n",
       "      <td>0.203637</td>\n",
       "      <td>0.381497</td>\n",
       "      <td>1.000000</td>\n",
       "    </tr>\n",
       "  </tbody>\n",
       "</table>\n",
       "</div>"
      ],
      "text/plain": [
       "                         APM  SelectByHotkeys  AssignToHotkeys  UniqueHotkeys  \\\n",
       "APM                 1.000000         0.840693         0.578416       0.361704   \n",
       "SelectByHotkeys     0.840693         1.000000         0.504526       0.302096   \n",
       "AssignToHotkeys     0.578416         0.504526         1.000000       0.420242   \n",
       "UniqueHotkeys       0.361704         0.302096         0.420242       1.000000   \n",
       "MinimapAttacks      0.271021         0.197158         0.242196       0.180592   \n",
       "MinimapRightClicks  0.322179         0.143368         0.193043       0.141576   \n",
       "NumberOfPACs        0.651237         0.398505         0.486729       0.372079   \n",
       "GapBetweenPACs     -0.575275        -0.304290        -0.396891      -0.242815   \n",
       "ActionLatency      -0.722402        -0.415388        -0.482191      -0.323103   \n",
       "ActionsInPAC        0.383985         0.163282         0.093668      -0.016400   \n",
       "TotalMapExplored    0.220749         0.083481         0.192928       0.264650   \n",
       "WorkersMade         0.349692         0.141723         0.183065       0.108141   \n",
       "UniqueUnitsMade     0.100844         0.006121         0.132829       0.225030   \n",
       "ComplexUnitsMade    0.136143         0.044002         0.144603       0.110363   \n",
       "\n",
       "                    MinimapAttacks  MinimapRightClicks  NumberOfPACs  \\\n",
       "APM                       0.271021            0.322179      0.651237   \n",
       "SelectByHotkeys           0.197158            0.143368      0.398505   \n",
       "AssignToHotkeys           0.242196            0.193043      0.486729   \n",
       "UniqueHotkeys             0.180592            0.141576      0.372079   \n",
       "MinimapAttacks            1.000000            0.242269      0.177343   \n",
       "MinimapRightClicks        0.242269            1.000000      0.176137   \n",
       "NumberOfPACs              0.177343            0.176137      1.000000   \n",
       "GapBetweenPACs           -0.237633           -0.254466     -0.506261   \n",
       "ActionLatency            -0.199904           -0.230660     -0.820334   \n",
       "ActionsInPAC              0.134804            0.307512     -0.232018   \n",
       "TotalMapExplored          0.166392            0.172592      0.460275   \n",
       "WorkersMade               0.077624            0.206594      0.277891   \n",
       "UniqueUnitsMade           0.120824            0.148699      0.306295   \n",
       "ComplexUnitsMade          0.040239            0.091604      0.181484   \n",
       "\n",
       "                    GapBetweenPACs  ActionLatency  ActionsInPAC  \\\n",
       "APM                      -0.575275      -0.722402      0.383985   \n",
       "SelectByHotkeys          -0.304290      -0.415388      0.163282   \n",
       "AssignToHotkeys          -0.396891      -0.482191      0.093668   \n",
       "UniqueHotkeys            -0.242815      -0.323103     -0.016400   \n",
       "MinimapAttacks           -0.237633      -0.199904      0.134804   \n",
       "MinimapRightClicks       -0.254466      -0.230660      0.307512   \n",
       "NumberOfPACs             -0.506261      -0.820334     -0.232018   \n",
       "GapBetweenPACs            1.000000       0.689402     -0.311072   \n",
       "ActionLatency             0.689402       1.000000     -0.110224   \n",
       "ActionsInPAC             -0.311072      -0.110224      1.000000   \n",
       "TotalMapExplored         -0.095330      -0.343314     -0.157215   \n",
       "WorkersMade              -0.235419      -0.309175      0.251795   \n",
       "UniqueUnitsMade          -0.084855      -0.212610     -0.133697   \n",
       "ComplexUnitsMade         -0.074659      -0.186407      0.052725   \n",
       "\n",
       "                    TotalMapExplored  WorkersMade  UniqueUnitsMade  \\\n",
       "APM                         0.220749     0.349692         0.100844   \n",
       "SelectByHotkeys             0.083481     0.141723         0.006121   \n",
       "AssignToHotkeys             0.192928     0.183065         0.132829   \n",
       "UniqueHotkeys               0.264650     0.108141         0.225030   \n",
       "MinimapAttacks              0.166392     0.077624         0.120824   \n",
       "MinimapRightClicks          0.172592     0.206594         0.148699   \n",
       "NumberOfPACs                0.460275     0.277891         0.306295   \n",
       "GapBetweenPACs             -0.095330    -0.235419        -0.084855   \n",
       "ActionLatency              -0.343314    -0.309175        -0.212610   \n",
       "ActionsInPAC               -0.157215     0.251795        -0.133697   \n",
       "TotalMapExplored            1.000000     0.131507         0.572768   \n",
       "WorkersMade                 0.131507     1.000000         0.113504   \n",
       "UniqueUnitsMade             0.572768     0.113504         1.000000   \n",
       "ComplexUnitsMade            0.307762     0.203637         0.381497   \n",
       "\n",
       "                    ComplexUnitsMade  \n",
       "APM                         0.136143  \n",
       "SelectByHotkeys             0.044002  \n",
       "AssignToHotkeys             0.144603  \n",
       "UniqueHotkeys               0.110363  \n",
       "MinimapAttacks              0.040239  \n",
       "MinimapRightClicks          0.091604  \n",
       "NumberOfPACs                0.181484  \n",
       "GapBetweenPACs             -0.074659  \n",
       "ActionLatency              -0.186407  \n",
       "ActionsInPAC                0.052725  \n",
       "TotalMapExplored            0.307762  \n",
       "WorkersMade                 0.203637  \n",
       "UniqueUnitsMade             0.381497  \n",
       "ComplexUnitsMade            1.000000  "
      ]
     },
     "execution_count": 49,
     "metadata": {},
     "output_type": "execute_result"
    }
   ],
   "source": [
    "scaled_player_df.corr()"
   ]
  },
  {
   "cell_type": "markdown",
   "id": "99aac691",
   "metadata": {},
   "source": [
    "'APM' and 'SelectByHotKeys' are having very high correlation with each which is 0.84, we can remove one of the variables as they provide similar information which leads to redundency, similarly 'NumberOfPACs' and 'ActionLatency' are also having high correlation which is equal to -0.82, I am removing 'SelectByHotKeys', and 'ActionLatency' variables from the dataset."
   ]
  },
  {
   "cell_type": "code",
   "execution_count": 50,
   "id": "1bfa5936",
   "metadata": {},
   "outputs": [],
   "source": [
    "scaled_player_df = scaled_player_df.drop(['SelectByHotkeys', 'ActionLatency'], axis = 1)"
   ]
  },
  {
   "cell_type": "code",
   "execution_count": 51,
   "id": "247313c5",
   "metadata": {},
   "outputs": [
    {
     "data": {
      "text/plain": [
       "(3395, 12)"
      ]
     },
     "execution_count": 51,
     "metadata": {},
     "output_type": "execute_result"
    }
   ],
   "source": [
    "scaled_player_df.shape"
   ]
  },
  {
   "cell_type": "code",
   "execution_count": 52,
   "id": "5fc93a4c",
   "metadata": {},
   "outputs": [],
   "source": [
    "x_train, x_test, y_train, y_test = train_test_split(scaled_player_df, y, test_size = 0.2, random_state = 42)"
   ]
  },
  {
   "cell_type": "code",
   "execution_count": 53,
   "id": "3d177fe5",
   "metadata": {},
   "outputs": [
    {
     "data": {
      "text/html": [
       "<style>#sk-container-id-5 {color: black;background-color: white;}#sk-container-id-5 pre{padding: 0;}#sk-container-id-5 div.sk-toggleable {background-color: white;}#sk-container-id-5 label.sk-toggleable__label {cursor: pointer;display: block;width: 100%;margin-bottom: 0;padding: 0.3em;box-sizing: border-box;text-align: center;}#sk-container-id-5 label.sk-toggleable__label-arrow:before {content: \"▸\";float: left;margin-right: 0.25em;color: #696969;}#sk-container-id-5 label.sk-toggleable__label-arrow:hover:before {color: black;}#sk-container-id-5 div.sk-estimator:hover label.sk-toggleable__label-arrow:before {color: black;}#sk-container-id-5 div.sk-toggleable__content {max-height: 0;max-width: 0;overflow: hidden;text-align: left;background-color: #f0f8ff;}#sk-container-id-5 div.sk-toggleable__content pre {margin: 0.2em;color: black;border-radius: 0.25em;background-color: #f0f8ff;}#sk-container-id-5 input.sk-toggleable__control:checked~div.sk-toggleable__content {max-height: 200px;max-width: 100%;overflow: auto;}#sk-container-id-5 input.sk-toggleable__control:checked~label.sk-toggleable__label-arrow:before {content: \"▾\";}#sk-container-id-5 div.sk-estimator input.sk-toggleable__control:checked~label.sk-toggleable__label {background-color: #d4ebff;}#sk-container-id-5 div.sk-label input.sk-toggleable__control:checked~label.sk-toggleable__label {background-color: #d4ebff;}#sk-container-id-5 input.sk-hidden--visually {border: 0;clip: rect(1px 1px 1px 1px);clip: rect(1px, 1px, 1px, 1px);height: 1px;margin: -1px;overflow: hidden;padding: 0;position: absolute;width: 1px;}#sk-container-id-5 div.sk-estimator {font-family: monospace;background-color: #f0f8ff;border: 1px dotted black;border-radius: 0.25em;box-sizing: border-box;margin-bottom: 0.5em;}#sk-container-id-5 div.sk-estimator:hover {background-color: #d4ebff;}#sk-container-id-5 div.sk-parallel-item::after {content: \"\";width: 100%;border-bottom: 1px solid gray;flex-grow: 1;}#sk-container-id-5 div.sk-label:hover label.sk-toggleable__label {background-color: #d4ebff;}#sk-container-id-5 div.sk-serial::before {content: \"\";position: absolute;border-left: 1px solid gray;box-sizing: border-box;top: 0;bottom: 0;left: 50%;z-index: 0;}#sk-container-id-5 div.sk-serial {display: flex;flex-direction: column;align-items: center;background-color: white;padding-right: 0.2em;padding-left: 0.2em;position: relative;}#sk-container-id-5 div.sk-item {position: relative;z-index: 1;}#sk-container-id-5 div.sk-parallel {display: flex;align-items: stretch;justify-content: center;background-color: white;position: relative;}#sk-container-id-5 div.sk-item::before, #sk-container-id-5 div.sk-parallel-item::before {content: \"\";position: absolute;border-left: 1px solid gray;box-sizing: border-box;top: 0;bottom: 0;left: 50%;z-index: -1;}#sk-container-id-5 div.sk-parallel-item {display: flex;flex-direction: column;z-index: 1;position: relative;background-color: white;}#sk-container-id-5 div.sk-parallel-item:first-child::after {align-self: flex-end;width: 50%;}#sk-container-id-5 div.sk-parallel-item:last-child::after {align-self: flex-start;width: 50%;}#sk-container-id-5 div.sk-parallel-item:only-child::after {width: 0;}#sk-container-id-5 div.sk-dashed-wrapped {border: 1px dashed gray;margin: 0 0.4em 0.5em 0.4em;box-sizing: border-box;padding-bottom: 0.4em;background-color: white;}#sk-container-id-5 div.sk-label label {font-family: monospace;font-weight: bold;display: inline-block;line-height: 1.2em;}#sk-container-id-5 div.sk-label-container {text-align: center;}#sk-container-id-5 div.sk-container {/* jupyter's `normalize.less` sets `[hidden] { display: none; }` but bootstrap.min.css set `[hidden] { display: none !important; }` so we also need the `!important` here to be able to override the default hidden behavior on the sphinx rendered scikit-learn.org. See: https://github.com/scikit-learn/scikit-learn/issues/21755 */display: inline-block !important;position: relative;}#sk-container-id-5 div.sk-text-repr-fallback {display: none;}</style><div id=\"sk-container-id-5\" class=\"sk-top-container\"><div class=\"sk-text-repr-fallback\"><pre>RandomForestClassifier(max_depth=3, random_state=42)</pre><b>In a Jupyter environment, please rerun this cell to show the HTML representation or trust the notebook. <br />On GitHub, the HTML representation is unable to render, please try loading this page with nbviewer.org.</b></div><div class=\"sk-container\" hidden><div class=\"sk-item\"><div class=\"sk-estimator sk-toggleable\"><input class=\"sk-toggleable__control sk-hidden--visually\" id=\"sk-estimator-id-5\" type=\"checkbox\" checked><label for=\"sk-estimator-id-5\" class=\"sk-toggleable__label sk-toggleable__label-arrow\">RandomForestClassifier</label><div class=\"sk-toggleable__content\"><pre>RandomForestClassifier(max_depth=3, random_state=42)</pre></div></div></div></div></div>"
      ],
      "text/plain": [
       "RandomForestClassifier(max_depth=3, random_state=42)"
      ]
     },
     "execution_count": 53,
     "metadata": {},
     "output_type": "execute_result"
    }
   ],
   "source": [
    "# Applying the random_forest_player_model2 to the above variables\n",
    "\n",
    "random_forest_player_model2.fit(x_train, y_train)"
   ]
  },
  {
   "cell_type": "code",
   "execution_count": 54,
   "id": "6f8a0422",
   "metadata": {},
   "outputs": [
    {
     "name": "stdout",
     "output_type": "stream",
     "text": [
      "The training accuracy using the random forest classifier after reducing the number of features is 40.97938144329897\n"
     ]
    }
   ],
   "source": [
    "# Applying the random_forest_player_model2 to x_train object\n",
    "\n",
    "y_train_pred_rf3 = random_forest_player_model2.predict(x_train)\n",
    "rf_train_acc3 = accuracy_score(y_train_pred_rf3, y_train)\n",
    "print(\"The training accuracy using the random forest classifier after reducing the number of features is\", rf_train_acc3*100)"
   ]
  },
  {
   "cell_type": "code",
   "execution_count": 55,
   "id": "4f821c8a",
   "metadata": {},
   "outputs": [
    {
     "name": "stdout",
     "output_type": "stream",
     "text": [
      "The testing accuracy using the random forest classifier after reducing the number of features is 34.02061855670103\n"
     ]
    }
   ],
   "source": [
    "# Applying the random_forest_player_model2 to x_test object\n",
    "\n",
    "y_test_pred_rf3 = random_forest_player_model2.predict(x_test)\n",
    "rf_test_acc3 = accuracy_score(y_test_pred_rf3, y_test)\n",
    "print(\"The testing accuracy using the random forest classifier after reducing the number of features is\", rf_test_acc3*100)"
   ]
  },
  {
   "cell_type": "markdown",
   "id": "4be76abc",
   "metadata": {},
   "source": [
    "The model is showing very slight difference in the accuracies but the improvement is very minute. I am moving forward to apply the XGBoost on this dataset."
   ]
  },
  {
   "cell_type": "markdown",
   "id": "47d64488",
   "metadata": {},
   "source": [
    "#### XGBOOST MODEL"
   ]
  },
  {
   "cell_type": "code",
   "execution_count": 56,
   "id": "01d867ac",
   "metadata": {},
   "outputs": [],
   "source": [
    "# Importing required libraries\n",
    "\n",
    "import xgboost as xgb"
   ]
  },
  {
   "cell_type": "code",
   "execution_count": 57,
   "id": "01b18ed4",
   "metadata": {},
   "outputs": [],
   "source": [
    "# Choosing hyperparameters from random forest model\n",
    "\n",
    "xgb_player_model = xgb.XGBClassifier(learning_rate = 0.1, max_depth = 10, n_estimators = 100, random_state = 42)"
   ]
  },
  {
   "cell_type": "code",
   "execution_count": 59,
   "id": "05d5f78d",
   "metadata": {},
   "outputs": [],
   "source": [
    "# Setting the y_train, y_test\n",
    "\n",
    "y_train_xgb = y_train - 1\n",
    "y_test_xgb = y_test - 1"
   ]
  },
  {
   "cell_type": "code",
   "execution_count": 60,
   "id": "8dc51fb1",
   "metadata": {},
   "outputs": [
    {
     "data": {
      "text/html": [
       "<style>#sk-container-id-6 {color: black;background-color: white;}#sk-container-id-6 pre{padding: 0;}#sk-container-id-6 div.sk-toggleable {background-color: white;}#sk-container-id-6 label.sk-toggleable__label {cursor: pointer;display: block;width: 100%;margin-bottom: 0;padding: 0.3em;box-sizing: border-box;text-align: center;}#sk-container-id-6 label.sk-toggleable__label-arrow:before {content: \"▸\";float: left;margin-right: 0.25em;color: #696969;}#sk-container-id-6 label.sk-toggleable__label-arrow:hover:before {color: black;}#sk-container-id-6 div.sk-estimator:hover label.sk-toggleable__label-arrow:before {color: black;}#sk-container-id-6 div.sk-toggleable__content {max-height: 0;max-width: 0;overflow: hidden;text-align: left;background-color: #f0f8ff;}#sk-container-id-6 div.sk-toggleable__content pre {margin: 0.2em;color: black;border-radius: 0.25em;background-color: #f0f8ff;}#sk-container-id-6 input.sk-toggleable__control:checked~div.sk-toggleable__content {max-height: 200px;max-width: 100%;overflow: auto;}#sk-container-id-6 input.sk-toggleable__control:checked~label.sk-toggleable__label-arrow:before {content: \"▾\";}#sk-container-id-6 div.sk-estimator input.sk-toggleable__control:checked~label.sk-toggleable__label {background-color: #d4ebff;}#sk-container-id-6 div.sk-label input.sk-toggleable__control:checked~label.sk-toggleable__label {background-color: #d4ebff;}#sk-container-id-6 input.sk-hidden--visually {border: 0;clip: rect(1px 1px 1px 1px);clip: rect(1px, 1px, 1px, 1px);height: 1px;margin: -1px;overflow: hidden;padding: 0;position: absolute;width: 1px;}#sk-container-id-6 div.sk-estimator {font-family: monospace;background-color: #f0f8ff;border: 1px dotted black;border-radius: 0.25em;box-sizing: border-box;margin-bottom: 0.5em;}#sk-container-id-6 div.sk-estimator:hover {background-color: #d4ebff;}#sk-container-id-6 div.sk-parallel-item::after {content: \"\";width: 100%;border-bottom: 1px solid gray;flex-grow: 1;}#sk-container-id-6 div.sk-label:hover label.sk-toggleable__label {background-color: #d4ebff;}#sk-container-id-6 div.sk-serial::before {content: \"\";position: absolute;border-left: 1px solid gray;box-sizing: border-box;top: 0;bottom: 0;left: 50%;z-index: 0;}#sk-container-id-6 div.sk-serial {display: flex;flex-direction: column;align-items: center;background-color: white;padding-right: 0.2em;padding-left: 0.2em;position: relative;}#sk-container-id-6 div.sk-item {position: relative;z-index: 1;}#sk-container-id-6 div.sk-parallel {display: flex;align-items: stretch;justify-content: center;background-color: white;position: relative;}#sk-container-id-6 div.sk-item::before, #sk-container-id-6 div.sk-parallel-item::before {content: \"\";position: absolute;border-left: 1px solid gray;box-sizing: border-box;top: 0;bottom: 0;left: 50%;z-index: -1;}#sk-container-id-6 div.sk-parallel-item {display: flex;flex-direction: column;z-index: 1;position: relative;background-color: white;}#sk-container-id-6 div.sk-parallel-item:first-child::after {align-self: flex-end;width: 50%;}#sk-container-id-6 div.sk-parallel-item:last-child::after {align-self: flex-start;width: 50%;}#sk-container-id-6 div.sk-parallel-item:only-child::after {width: 0;}#sk-container-id-6 div.sk-dashed-wrapped {border: 1px dashed gray;margin: 0 0.4em 0.5em 0.4em;box-sizing: border-box;padding-bottom: 0.4em;background-color: white;}#sk-container-id-6 div.sk-label label {font-family: monospace;font-weight: bold;display: inline-block;line-height: 1.2em;}#sk-container-id-6 div.sk-label-container {text-align: center;}#sk-container-id-6 div.sk-container {/* jupyter's `normalize.less` sets `[hidden] { display: none; }` but bootstrap.min.css set `[hidden] { display: none !important; }` so we also need the `!important` here to be able to override the default hidden behavior on the sphinx rendered scikit-learn.org. See: https://github.com/scikit-learn/scikit-learn/issues/21755 */display: inline-block !important;position: relative;}#sk-container-id-6 div.sk-text-repr-fallback {display: none;}</style><div id=\"sk-container-id-6\" class=\"sk-top-container\"><div class=\"sk-text-repr-fallback\"><pre>XGBClassifier(base_score=None, booster=None, callbacks=None,\n",
       "              colsample_bylevel=None, colsample_bynode=None,\n",
       "              colsample_bytree=None, early_stopping_rounds=None,\n",
       "              enable_categorical=False, eval_metric=None, feature_types=None,\n",
       "              gamma=None, gpu_id=None, grow_policy=None, importance_type=None,\n",
       "              interaction_constraints=None, learning_rate=0.1, max_bin=None,\n",
       "              max_cat_threshold=None, max_cat_to_onehot=None,\n",
       "              max_delta_step=None, max_depth=10, max_leaves=None,\n",
       "              min_child_weight=None, missing=nan, monotone_constraints=None,\n",
       "              n_estimators=100, n_jobs=None, num_parallel_tree=None,\n",
       "              objective=&#x27;multi:softprob&#x27;, predictor=None, ...)</pre><b>In a Jupyter environment, please rerun this cell to show the HTML representation or trust the notebook. <br />On GitHub, the HTML representation is unable to render, please try loading this page with nbviewer.org.</b></div><div class=\"sk-container\" hidden><div class=\"sk-item\"><div class=\"sk-estimator sk-toggleable\"><input class=\"sk-toggleable__control sk-hidden--visually\" id=\"sk-estimator-id-6\" type=\"checkbox\" checked><label for=\"sk-estimator-id-6\" class=\"sk-toggleable__label sk-toggleable__label-arrow\">XGBClassifier</label><div class=\"sk-toggleable__content\"><pre>XGBClassifier(base_score=None, booster=None, callbacks=None,\n",
       "              colsample_bylevel=None, colsample_bynode=None,\n",
       "              colsample_bytree=None, early_stopping_rounds=None,\n",
       "              enable_categorical=False, eval_metric=None, feature_types=None,\n",
       "              gamma=None, gpu_id=None, grow_policy=None, importance_type=None,\n",
       "              interaction_constraints=None, learning_rate=0.1, max_bin=None,\n",
       "              max_cat_threshold=None, max_cat_to_onehot=None,\n",
       "              max_delta_step=None, max_depth=10, max_leaves=None,\n",
       "              min_child_weight=None, missing=nan, monotone_constraints=None,\n",
       "              n_estimators=100, n_jobs=None, num_parallel_tree=None,\n",
       "              objective=&#x27;multi:softprob&#x27;, predictor=None, ...)</pre></div></div></div></div></div>"
      ],
      "text/plain": [
       "XGBClassifier(base_score=None, booster=None, callbacks=None,\n",
       "              colsample_bylevel=None, colsample_bynode=None,\n",
       "              colsample_bytree=None, early_stopping_rounds=None,\n",
       "              enable_categorical=False, eval_metric=None, feature_types=None,\n",
       "              gamma=None, gpu_id=None, grow_policy=None, importance_type=None,\n",
       "              interaction_constraints=None, learning_rate=0.1, max_bin=None,\n",
       "              max_cat_threshold=None, max_cat_to_onehot=None,\n",
       "              max_delta_step=None, max_depth=10, max_leaves=None,\n",
       "              min_child_weight=None, missing=nan, monotone_constraints=None,\n",
       "              n_estimators=100, n_jobs=None, num_parallel_tree=None,\n",
       "              objective='multi:softprob', predictor=None, ...)"
      ]
     },
     "execution_count": 60,
     "metadata": {},
     "output_type": "execute_result"
    }
   ],
   "source": [
    "xgb_player_model.fit(x_train, y_train_xgb)"
   ]
  },
  {
   "cell_type": "code",
   "execution_count": 62,
   "id": "3e5f1571",
   "metadata": {},
   "outputs": [
    {
     "name": "stdout",
     "output_type": "stream",
     "text": [
      "The training accuracy using the XGB classifier is 99.96318114874816\n"
     ]
    }
   ],
   "source": [
    "# Applying the xgb_player_model to x_train object\n",
    "\n",
    "y_train_pred_xgb = xgb_player_model.predict(x_train)\n",
    "xgb_train_acc = accuracy_score(y_train_pred_xgb, y_train_xgb)\n",
    "print(\"The training accuracy using the XGB classifier is\", xgb_train_acc*100)"
   ]
  },
  {
   "cell_type": "code",
   "execution_count": 64,
   "id": "06dc71eb",
   "metadata": {},
   "outputs": [
    {
     "name": "stdout",
     "output_type": "stream",
     "text": [
      "The testing accuracy using the XGB classifier is 35.93519882179676\n"
     ]
    }
   ],
   "source": [
    "# Applying the xgb_player_model to x_test object\n",
    "\n",
    "y_test_pred_xgb = xgb_player_model.predict(x_test)\n",
    "xgb_test_acc = accuracy_score(y_test_pred_xgb, y_test_xgb)\n",
    "print(\"The testing accuracy using the XGB classifier is\", xgb_test_acc*100)"
   ]
  },
  {
   "cell_type": "markdown",
   "id": "aadc252c",
   "metadata": {},
   "source": [
    "XGB model is also overfitting, let us reduce the maximum depth to 3 and check how the model will perform."
   ]
  },
  {
   "cell_type": "code",
   "execution_count": 73,
   "id": "76bf3845",
   "metadata": {},
   "outputs": [],
   "source": [
    "# Reducing the maximum depth parameter\n",
    "\n",
    "xgb_player_model1 = xgb.XGBClassifier(learning_rate = 0.1, max_depth = 3, n_estimators = 100, random_state = 42)"
   ]
  },
  {
   "cell_type": "code",
   "execution_count": 74,
   "id": "5fa45ee1",
   "metadata": {},
   "outputs": [
    {
     "data": {
      "text/html": [
       "<style>#sk-container-id-9 {color: black;background-color: white;}#sk-container-id-9 pre{padding: 0;}#sk-container-id-9 div.sk-toggleable {background-color: white;}#sk-container-id-9 label.sk-toggleable__label {cursor: pointer;display: block;width: 100%;margin-bottom: 0;padding: 0.3em;box-sizing: border-box;text-align: center;}#sk-container-id-9 label.sk-toggleable__label-arrow:before {content: \"▸\";float: left;margin-right: 0.25em;color: #696969;}#sk-container-id-9 label.sk-toggleable__label-arrow:hover:before {color: black;}#sk-container-id-9 div.sk-estimator:hover label.sk-toggleable__label-arrow:before {color: black;}#sk-container-id-9 div.sk-toggleable__content {max-height: 0;max-width: 0;overflow: hidden;text-align: left;background-color: #f0f8ff;}#sk-container-id-9 div.sk-toggleable__content pre {margin: 0.2em;color: black;border-radius: 0.25em;background-color: #f0f8ff;}#sk-container-id-9 input.sk-toggleable__control:checked~div.sk-toggleable__content {max-height: 200px;max-width: 100%;overflow: auto;}#sk-container-id-9 input.sk-toggleable__control:checked~label.sk-toggleable__label-arrow:before {content: \"▾\";}#sk-container-id-9 div.sk-estimator input.sk-toggleable__control:checked~label.sk-toggleable__label {background-color: #d4ebff;}#sk-container-id-9 div.sk-label input.sk-toggleable__control:checked~label.sk-toggleable__label {background-color: #d4ebff;}#sk-container-id-9 input.sk-hidden--visually {border: 0;clip: rect(1px 1px 1px 1px);clip: rect(1px, 1px, 1px, 1px);height: 1px;margin: -1px;overflow: hidden;padding: 0;position: absolute;width: 1px;}#sk-container-id-9 div.sk-estimator {font-family: monospace;background-color: #f0f8ff;border: 1px dotted black;border-radius: 0.25em;box-sizing: border-box;margin-bottom: 0.5em;}#sk-container-id-9 div.sk-estimator:hover {background-color: #d4ebff;}#sk-container-id-9 div.sk-parallel-item::after {content: \"\";width: 100%;border-bottom: 1px solid gray;flex-grow: 1;}#sk-container-id-9 div.sk-label:hover label.sk-toggleable__label {background-color: #d4ebff;}#sk-container-id-9 div.sk-serial::before {content: \"\";position: absolute;border-left: 1px solid gray;box-sizing: border-box;top: 0;bottom: 0;left: 50%;z-index: 0;}#sk-container-id-9 div.sk-serial {display: flex;flex-direction: column;align-items: center;background-color: white;padding-right: 0.2em;padding-left: 0.2em;position: relative;}#sk-container-id-9 div.sk-item {position: relative;z-index: 1;}#sk-container-id-9 div.sk-parallel {display: flex;align-items: stretch;justify-content: center;background-color: white;position: relative;}#sk-container-id-9 div.sk-item::before, #sk-container-id-9 div.sk-parallel-item::before {content: \"\";position: absolute;border-left: 1px solid gray;box-sizing: border-box;top: 0;bottom: 0;left: 50%;z-index: -1;}#sk-container-id-9 div.sk-parallel-item {display: flex;flex-direction: column;z-index: 1;position: relative;background-color: white;}#sk-container-id-9 div.sk-parallel-item:first-child::after {align-self: flex-end;width: 50%;}#sk-container-id-9 div.sk-parallel-item:last-child::after {align-self: flex-start;width: 50%;}#sk-container-id-9 div.sk-parallel-item:only-child::after {width: 0;}#sk-container-id-9 div.sk-dashed-wrapped {border: 1px dashed gray;margin: 0 0.4em 0.5em 0.4em;box-sizing: border-box;padding-bottom: 0.4em;background-color: white;}#sk-container-id-9 div.sk-label label {font-family: monospace;font-weight: bold;display: inline-block;line-height: 1.2em;}#sk-container-id-9 div.sk-label-container {text-align: center;}#sk-container-id-9 div.sk-container {/* jupyter's `normalize.less` sets `[hidden] { display: none; }` but bootstrap.min.css set `[hidden] { display: none !important; }` so we also need the `!important` here to be able to override the default hidden behavior on the sphinx rendered scikit-learn.org. See: https://github.com/scikit-learn/scikit-learn/issues/21755 */display: inline-block !important;position: relative;}#sk-container-id-9 div.sk-text-repr-fallback {display: none;}</style><div id=\"sk-container-id-9\" class=\"sk-top-container\"><div class=\"sk-text-repr-fallback\"><pre>XGBClassifier(base_score=None, booster=None, callbacks=None,\n",
       "              colsample_bylevel=None, colsample_bynode=None,\n",
       "              colsample_bytree=None, early_stopping_rounds=None,\n",
       "              enable_categorical=False, eval_metric=None, feature_types=None,\n",
       "              gamma=None, gpu_id=None, grow_policy=None, importance_type=None,\n",
       "              interaction_constraints=None, learning_rate=0.1, max_bin=None,\n",
       "              max_cat_threshold=None, max_cat_to_onehot=None,\n",
       "              max_delta_step=None, max_depth=3, max_leaves=None,\n",
       "              min_child_weight=None, missing=nan, monotone_constraints=None,\n",
       "              n_estimators=100, n_jobs=None, num_parallel_tree=None,\n",
       "              objective=&#x27;multi:softprob&#x27;, predictor=None, ...)</pre><b>In a Jupyter environment, please rerun this cell to show the HTML representation or trust the notebook. <br />On GitHub, the HTML representation is unable to render, please try loading this page with nbviewer.org.</b></div><div class=\"sk-container\" hidden><div class=\"sk-item\"><div class=\"sk-estimator sk-toggleable\"><input class=\"sk-toggleable__control sk-hidden--visually\" id=\"sk-estimator-id-9\" type=\"checkbox\" checked><label for=\"sk-estimator-id-9\" class=\"sk-toggleable__label sk-toggleable__label-arrow\">XGBClassifier</label><div class=\"sk-toggleable__content\"><pre>XGBClassifier(base_score=None, booster=None, callbacks=None,\n",
       "              colsample_bylevel=None, colsample_bynode=None,\n",
       "              colsample_bytree=None, early_stopping_rounds=None,\n",
       "              enable_categorical=False, eval_metric=None, feature_types=None,\n",
       "              gamma=None, gpu_id=None, grow_policy=None, importance_type=None,\n",
       "              interaction_constraints=None, learning_rate=0.1, max_bin=None,\n",
       "              max_cat_threshold=None, max_cat_to_onehot=None,\n",
       "              max_delta_step=None, max_depth=3, max_leaves=None,\n",
       "              min_child_weight=None, missing=nan, monotone_constraints=None,\n",
       "              n_estimators=100, n_jobs=None, num_parallel_tree=None,\n",
       "              objective=&#x27;multi:softprob&#x27;, predictor=None, ...)</pre></div></div></div></div></div>"
      ],
      "text/plain": [
       "XGBClassifier(base_score=None, booster=None, callbacks=None,\n",
       "              colsample_bylevel=None, colsample_bynode=None,\n",
       "              colsample_bytree=None, early_stopping_rounds=None,\n",
       "              enable_categorical=False, eval_metric=None, feature_types=None,\n",
       "              gamma=None, gpu_id=None, grow_policy=None, importance_type=None,\n",
       "              interaction_constraints=None, learning_rate=0.1, max_bin=None,\n",
       "              max_cat_threshold=None, max_cat_to_onehot=None,\n",
       "              max_delta_step=None, max_depth=3, max_leaves=None,\n",
       "              min_child_weight=None, missing=nan, monotone_constraints=None,\n",
       "              n_estimators=100, n_jobs=None, num_parallel_tree=None,\n",
       "              objective='multi:softprob', predictor=None, ...)"
      ]
     },
     "execution_count": 74,
     "metadata": {},
     "output_type": "execute_result"
    }
   ],
   "source": [
    "xgb_player_model1.fit(x_train, y_train_xgb)"
   ]
  },
  {
   "cell_type": "code",
   "execution_count": 75,
   "id": "afafa934",
   "metadata": {},
   "outputs": [
    {
     "name": "stdout",
     "output_type": "stream",
     "text": [
      "The training accuracy using the XGB classifier after reducing the maximum depth is 62.00294550810015\n"
     ]
    }
   ],
   "source": [
    "# Applying the xgb_player_model1 to x_train object\n",
    "\n",
    "y_train_pred_xgb1 = xgb_player_model1.predict(x_train)\n",
    "xgb_train_acc1 = accuracy_score(y_train_pred_xgb1, y_train_xgb)\n",
    "print(\"The training accuracy using the XGB classifier after reducing the maximum depth is\", xgb_train_acc1*100)"
   ]
  },
  {
   "cell_type": "code",
   "execution_count": 76,
   "id": "32e1a428",
   "metadata": {},
   "outputs": [
    {
     "name": "stdout",
     "output_type": "stream",
     "text": [
      "The testing accuracy using the XGB classifier after reducing the maximum depth is 38.733431516936676\n"
     ]
    }
   ],
   "source": [
    "# Applying the xgb_player_model1 to x_test object\n",
    "\n",
    "y_test_pred_xgb1 = xgb_player_model1.predict(x_test)\n",
    "xgb_test_acc1 = accuracy_score(y_test_pred_xgb1, y_test_xgb)\n",
    "print(\"The testing accuracy using the XGB classifier after reducing the maximum depth is\", xgb_test_acc1*100)"
   ]
  },
  {
   "cell_type": "markdown",
   "id": "4620aa5a",
   "metadata": {},
   "source": [
    "The difference between the training and testing has reduced after decreasing the maximum depth parameter, but the accuracy is not improving even with XGBoost classifier."
   ]
  },
  {
   "cell_type": "code",
   "execution_count": 79,
   "id": "719122ac",
   "metadata": {},
   "outputs": [
    {
     "data": {
      "image/png": "[encoded data removed]",
      "text/plain": [
       "<Figure size 640x480 with 1 Axes>"
      ]
     },
     "metadata": {},
     "output_type": "display_data"
    }
   ],
   "source": [
    "# Plotting training and testing accuracies\n",
    "\n",
    "plt.plot(y_train_pred_xgb1, label='Train Predictions')\n",
    "plt.plot(y_test_pred_xgb1, label='Test Predictions')\n",
    "plt.legend()\n",
    "plt.xlabel('Sample Index')\n",
    "plt.ylabel('Predicted Value')\n",
    "plt.title('XGBoost Predictions')\n",
    "plt.show()"
   ]
  },
  {
   "cell_type": "markdown",
   "id": "b43d86f9",
   "metadata": {},
   "source": [
    "From the above plot, we can clearly observe that the model had been overfitted, as the train and test predictions are very far apart from each other."
   ]
  },
  {
   "cell_type": "code",
   "execution_count": null,
   "id": "b54e5988",
   "metadata": {},
   "outputs": [],
   "source": []
  }
 ],
 "metadata": {
  "kernelspec": {
   "display_name": "Python 3 (ipykernel)",
   "language": "python",
   "name": "python3"
  },
  "language_info": {
   "codemirror_mode": {
    "name": "ipython",
    "version": 3
   },
   "file_extension": ".py",
   "mimetype": "text/x-python",
   "name": "python",
   "nbconvert_exporter": "python",
   "pygments_lexer": "ipython3",
   "version": "3.11.2"
  }
 },
 "nbformat": 4,
 "nbformat_minor": 5
}
